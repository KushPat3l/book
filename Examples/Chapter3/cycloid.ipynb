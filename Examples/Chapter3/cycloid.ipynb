{
 "cells": [
  {
   "cell_type": "code",
   "execution_count": 1,
   "metadata": {},
   "outputs": [
    {
     "name": "stdout",
     "output_type": "stream",
     "text": [
      "Using matplotlib backend: MacOSX\n"
     ]
    }
   ],
   "source": [
    "import numpy as np\n",
    "import matplotlib.pyplot as plt\n",
    "from matplotlib.widgets import Slider\n",
    "%matplotlib\n",
    "\n",
    "theta = np.linspace(0,2*np.pi)\n",
    "\n",
    "circ_x = lambda t: t+np.cos(theta)\n",
    "circ_y = 1+np.sin(theta)\n",
    "\n",
    "cycl_x = lambda t: t - np.sin(t)\n",
    "cycl_y = lambda t: 1 - np.cos(t)\n",
    "     \n",
    "t = 0\n",
    "\n",
    "fig,ax = plt.subplots()\n",
    "plt.subplots_adjust(bottom=0.2)\n",
    "plt.ylim(0,3)\n",
    "plt.xlim(-1,1+4*np.pi)\n",
    "plt.gca().set_aspect('equal')\n",
    "plt.grid('on')\n",
    "\n",
    "Circ,=plt.plot(circ_x(t), circ_y,'k') \n",
    "Cycl,=plt.plot(cycl_x(t), cycl_y(t), \n",
    "                    'r', markersize=3) \n",
    "Pnt,=plt.plot(cycl_x(t), cycl_y(t), \n",
    "                    'ro', markersize=5) \n",
    "axt = plt.axes([0.18, 0.33, 0.67, 0.02])\n",
    "t_slide = Slider(axt, 't', \n",
    "             0, 4*np.pi, valstep=0.001, \n",
    "             valinit=t)\n",
    "\n",
    "def update(val):\n",
    "    t = t_slide.val\n",
    "    Circ.set_xdata(circ_x(t))\n",
    "    T = np.linspace(0,t)\n",
    "    Cycl.set_data(cycl_x(T),cycl_y(T))  \n",
    "    Pnt.set_data(cycl_x(t),cycl_y(t)) \n",
    "    fig.canvas.draw_idle()\n",
    "\n",
    "t_slide.on_changed(update)\n",
    "\n",
    "plt.show()\n"
   ]
  },
  {
   "cell_type": "code",
   "execution_count": null,
   "metadata": {},
   "outputs": [],
   "source": []
  },
  {
   "cell_type": "code",
   "execution_count": null,
   "metadata": {},
   "outputs": [],
   "source": []
  },
  {
   "cell_type": "code",
   "execution_count": null,
   "metadata": {},
   "outputs": [],
   "source": []
  }
 ],
 "metadata": {
  "kernelspec": {
   "display_name": "Python 3",
   "language": "python",
   "name": "python3"
  },
  "language_info": {
   "codemirror_mode": {
    "name": "ipython",
    "version": 3
   },
   "file_extension": ".py",
   "mimetype": "text/x-python",
   "name": "python",
   "nbconvert_exporter": "python",
   "pygments_lexer": "ipython3",
   "version": "3.8.5"
  }
 },
 "nbformat": 4,
 "nbformat_minor": 4
}
