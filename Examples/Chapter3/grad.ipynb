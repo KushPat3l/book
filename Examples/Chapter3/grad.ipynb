{
 "cells": [
  {
   "cell_type": "code",
   "execution_count": 15,
   "metadata": {},
   "outputs": [
    {
     "name": "stdout",
     "output_type": "stream",
     "text": [
      "Using matplotlib backend: MacOSX\n"
     ]
    }
   ],
   "source": [
    "import numpy as np\n",
    "import matplotlib.pyplot as plt\n",
    "import matplotlib.gridspec as gridspec\n",
    "from matplotlib import cm\n",
    "%matplotlib\n",
    "\n",
    "def F(x, y):\n",
    "    return x + 2*np.sin(x+y)\n",
    "\n",
    "x = np.linspace(-2,2)\n",
    "y = np.linspace(-2,2)\n",
    "X, Y = np.meshgrid(x, y)\n",
    "Z = F(X, Y)\n",
    "\n",
    "N = np.array([-3,-2,1])/np.sqrt(14)\n",
    "\n",
    "fig = plt.figure()\n",
    "gs = gridspec.GridSpec(1, 2, \n",
    "       width_ratios=[1.5,1])\n",
    "\n",
    "ax1 = fig.add_subplot(gs[0], \n",
    "            projection='3d')\n",
    "ax1.set_box_aspect((1,1,1))\n",
    "ax1.plot_surface(X,Y, Z, alpha=0.7,\n",
    "            rstride=5, cstride=5,\n",
    "            edgecolor='k',\n",
    "            cmap=cm.viridis)\n",
    "ax1.plot(0,0,0, 'or')\n",
    "ax1.quiver(0,0,0,N[0],N[1],N[2], \n",
    "            length=1, color='r')\n",
    "ax1.set_xlim(-2,2)\n",
    "ax1.set_ylim(-2,2)\n",
    "ax1.set_zlim(-2,2)\n",
    "\n",
    "ax2 = fig.add_subplot(gs[1])\n",
    "p = ax2.contour(X, Y, Z, 20)\n",
    "fig.colorbar(p, shrink = 0.4)\n",
    "ax2.plot(0,0, 'or')\n",
    "ax2.quiver(0,0, N[0],N[1], color='r',\n",
    "           scale_units='xy', scale=1)\n",
    "ax2.set_aspect('equal')\n",
    "ax2.set_title('Projection onto z=0')\n",
    "\n",
    "fig.tight_layout()\n",
    "plt.show()"
   ]
  },
  {
   "cell_type": "code",
   "execution_count": null,
   "metadata": {},
   "outputs": [],
   "source": []
  },
  {
   "cell_type": "code",
   "execution_count": null,
   "metadata": {},
   "outputs": [],
   "source": []
  },
  {
   "cell_type": "code",
   "execution_count": null,
   "metadata": {},
   "outputs": [],
   "source": []
  }
 ],
 "metadata": {
  "kernelspec": {
   "display_name": "Python 3",
   "language": "python",
   "name": "python3"
  },
  "language_info": {
   "codemirror_mode": {
    "name": "ipython",
    "version": 3
   },
   "file_extension": ".py",
   "mimetype": "text/x-python",
   "name": "python",
   "nbconvert_exporter": "python",
   "pygments_lexer": "ipython3",
   "version": "3.8.5"
  }
 },
 "nbformat": 4,
 "nbformat_minor": 4
}
