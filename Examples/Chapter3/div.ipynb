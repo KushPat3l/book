{
 "cells": [
  {
   "cell_type": "code",
   "execution_count": 9,
   "metadata": {},
   "outputs": [
    {
     "name": "stdout",
     "output_type": "stream",
     "text": [
      "Using matplotlib backend: MacOSX\n"
     ]
    }
   ],
   "source": [
    "import numpy as np\n",
    "import matplotlib.pyplot as plt\n",
    "%matplotlib \n",
    "\n",
    "fig = plt.figure()\n",
    "ax = fig.gca(projection='3d')\n",
    "\n",
    "x, y, z = np.meshgrid(np.linspace(-1, 1,5),\n",
    "                      np.linspace(-1, 1,5),\n",
    "                      np.linspace(-1, 1,10))\n",
    "u = 2*x*z\n",
    "v = z+2*np.cos(y)\n",
    "w = 2*z**3\n",
    "\n",
    "ax.quiver(x, y, z, u, v, w , length=0.2)\n",
    "\n",
    "plt.show()"
   ]
  },
  {
   "cell_type": "code",
   "execution_count": null,
   "metadata": {},
   "outputs": [],
   "source": []
  },
  {
   "cell_type": "code",
   "execution_count": 6,
   "metadata": {},
   "outputs": [
    {
     "name": "stdout",
     "output_type": "stream",
     "text": [
      "Using matplotlib backend: MacOSX\n"
     ]
    }
   ],
   "source": [
    "import numpy as np\n",
    "import matplotlib.pyplot as plt\n",
    "from matplotlib.widgets import Slider\n",
    "%matplotlib\n",
    "\n",
    "x, y = np.meshgrid(np.linspace(-1, 1,20),\n",
    "                   np.linspace(-1, 1,20))\n",
    "z=0.5\n",
    "\n",
    "u = lambda x,y,z: 2*x*z\n",
    "v = lambda x,y,z: z+2*np.cos(y)\n",
    "div = lambda x,y,z: 2*z-2*np.sin(y)+ 6*z**2\n",
    "dmax= 10\n",
    "dmin= -2\n",
    "\n",
    "def plotdiv(z):\n",
    "    D = div(x,y,z)\n",
    "    U = u(x,y,z)\n",
    "    V = v(x,y,z)\n",
    "    ax.clear()\n",
    "    ax.set_title('Divergence heatmap')\n",
    "    heat = ax.pcolormesh(x, y, D, \n",
    "           vmin = dmin, vmax=dmax, \n",
    "           shading='gouraud',cmap='RdBu')\n",
    "    arrow = ax.quiver(x, y, U, V, \n",
    "            units='xy', scale=5)\n",
    "    return arrow, heat\n",
    "\n",
    "fig, ax = plt.subplots()\n",
    "plt.subplots_adjust(bottom=0.15)\n",
    "ax.axis([x.min(),x.max(),y.min(),y.max()])\n",
    "\n",
    "arrow, heat= plotdiv(z)\n",
    "fig.colorbar(heat, ax=ax)\n",
    "\n",
    "axz = plt.axes([0.15, 0.05, 0.6, 0.02])\n",
    "z_slide = Slider(axz, 'z slice', -1, 1, \n",
    "          valstep = 0.02, valinit = z)\n",
    "\n",
    "def update(val):\n",
    "    z = z_slide.val\n",
    "    plotdiv(z)\n",
    "\n",
    "z_slide.on_changed(update)\n",
    "plt.show()"
   ]
  },
  {
   "cell_type": "code",
   "execution_count": null,
   "metadata": {},
   "outputs": [],
   "source": []
  },
  {
   "cell_type": "code",
   "execution_count": null,
   "metadata": {},
   "outputs": [],
   "source": [
    "\n",
    "   \n",
    "    "
   ]
  }
 ],
 "metadata": {
  "kernelspec": {
   "display_name": "Python 3",
   "language": "python",
   "name": "python3"
  },
  "language_info": {
   "codemirror_mode": {
    "name": "ipython",
    "version": 3
   },
   "file_extension": ".py",
   "mimetype": "text/x-python",
   "name": "python",
   "nbconvert_exporter": "python",
   "pygments_lexer": "ipython3",
   "version": "3.8.5"
  }
 },
 "nbformat": 4,
 "nbformat_minor": 4
}
