{
 "cells": [
  {
   "cell_type": "code",
   "execution_count": 2,
   "metadata": {},
   "outputs": [
    {
     "name": "stdout",
     "output_type": "stream",
     "text": [
      "Found 27 points above 0.100000\n"
     ]
    }
   ],
   "source": [
    "import numpy as np\n",
    "import matplotlib.pyplot as plt\n",
    "\n",
    "xarray = []\n",
    "yarray = []\n",
    "\n",
    "for q in range(2,200):\n",
    "    for p in range(1,q):\n",
    "        if np.gcd(p,q) == 1:\n",
    "            xarray.append(p/q)\n",
    "            yarray.append(1/q)\n",
    "\n",
    "plt.plot(xarray, yarray, 'or', \n",
    "         markersize=3)\n",
    "plt.xlim(0,1) \n",
    "plt.savefig('fig_thomae.pdf')\n",
    "\n",
    "lim =0.1\n",
    "num = sum(y > lim for y in yarray)\n",
    "print(\"Found %d points above %f\" \n",
    "      %(num,lim))"
   ]
  },
  {
   "cell_type": "code",
   "execution_count": 25,
   "metadata": {},
   "outputs": [],
   "source": []
  },
  {
   "cell_type": "code",
   "execution_count": 26,
   "metadata": {},
   "outputs": [
    {
     "data": {
      "text/plain": [
       "27"
      ]
     },
     "execution_count": 26,
     "metadata": {},
     "output_type": "execute_result"
    }
   ],
   "source": []
  },
  {
   "cell_type": "code",
   "execution_count": null,
   "metadata": {},
   "outputs": [],
   "source": []
  }
 ],
 "metadata": {
  "kernelspec": {
   "display_name": "Python 3",
   "language": "python",
   "name": "python3"
  },
  "language_info": {
   "codemirror_mode": {
    "name": "ipython",
    "version": 3
   },
   "file_extension": ".py",
   "mimetype": "text/x-python",
   "name": "python",
   "nbconvert_exporter": "python",
   "pygments_lexer": "ipython3",
   "version": "3.8.5"
  }
 },
 "nbformat": 4,
 "nbformat_minor": 5
}
