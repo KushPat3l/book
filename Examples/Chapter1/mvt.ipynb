{
 "cells": [
  {
   "cell_type": "code",
   "execution_count": 36,
   "metadata": {},
   "outputs": [
    {
     "data": {
      "image/png": "[encoded data removed]",
      "text/plain": [
       "<Figure size 432x288 with 1 Axes>"
      ]
     },
     "metadata": {
      "needs_background": "light"
     },
     "output_type": "display_data"
    }
   ],
   "source": [
    "import numpy as np\n",
    "import matplotlib.pyplot as plt\n",
    "\n",
    "xa = np.linspace(-np.pi,np.pi)\n",
    "xC= np.linspace(-np.pi/2,np.pi/2)\n",
    "xR = np.linspace(np.pi/2+1e-10,np.pi)\n",
    "xL = np.linspace(-np.pi,-np.pi/2-1e-10)\n",
    "plt.ylim(-4,4)\n",
    "plt.plot( xa, 1-xa, xL, np.tan(xL),'red', xC, np.tan(xC), 'red', xR, np.tan(xR), 'red')\n",
    "plt.legend([r'$y=1-x$', r'$y=\\tan x$'])\n",
    "plt.grid('on')\n",
    "plt.savefig('figtan.pdf')\n"
   ]
  },
  {
   "cell_type": "code",
   "execution_count": 35,
   "metadata": {},
   "outputs": [
    {
     "name": "stdout",
     "output_type": "stream",
     "text": [
      "Iteration number 0,          x= 0.500000000000\n",
      "Iteration number 1,          x= 0.250000000000\n",
      "Iteration number 2,          x= 0.375000000000\n",
      "Iteration number 3,          x= 0.437500000000\n",
      "Iteration number 4,          x= 0.468750000000\n",
      "Iteration number 5,          x= 0.484375000000\n",
      "Iteration number 6,          x= 0.476562500000\n",
      "Iteration number 7,          x= 0.480468750000\n",
      "Iteration number 8,          x= 0.478515625000\n",
      "Iteration number 9,          x= 0.479492187500\n",
      "Iteration number 10,          x= 0.479980468750\n",
      "Iteration number 11,          x= 0.479736328125\n",
      "Iteration number 12,          x= 0.479614257812\n",
      "Iteration number 13,          x= 0.479675292969\n",
      "Iteration number 14,          x= 0.479705810547\n",
      "Iteration number 15,          x= 0.479721069336\n",
      "Iteration number 16,          x= 0.479728698730\n",
      "Final iteration number 17,       x= 0.479732513428\n"
     ]
    }
   ],
   "source": [
    "def f(x):\n",
    "    return np.tan(x)+x-1\n",
    "\n",
    "a = 0\n",
    "b = 1\n",
    "acc = 0.5e-5\n",
    "\n",
    "fa = f(a)                             \n",
    "fb = f(b)\n",
    "\n",
    "if fa*fb>=0:\n",
    "    raise ValueError(\n",
    "    'Root is not bracketed.')\n",
    "\n",
    "n=0                                 \n",
    "while (b-a)/2 > acc:                    \n",
    "    x = (a+b)/2                          \n",
    "    fx = f(x)                          \n",
    "    if fx == 0:\n",
    "         break                        \n",
    "    if fx*fa < 0:                       \n",
    "        b = x                           \n",
    "    else:\n",
    "        a = x                                            \n",
    "    print(\"Iteration number %d,\\\n",
    "          x= %.12f\" %(n, x))\n",
    "    n += 1                          \n",
    "\n",
    "x=(a+b)/2                       \n",
    "print('Final iteration number %d,\\\n",
    "       x= %.12f' %(n, x))"
   ]
  },
  {
   "cell_type": "code",
   "execution_count": 33,
   "metadata": {},
   "outputs": [
    {
     "name": "stdout",
     "output_type": "stream",
     "text": [
      "Iteration number 0,          x= 0.500000000000\n",
      "Iteration number 1,          x= 0.250000000000\n",
      "Iteration number 2,          x= 0.375000000000\n",
      "Iteration number 3,          x= 0.437500000000\n",
      "Iteration number 4,          x= 0.468750000000\n",
      "Iteration number 5,          x= 0.484375000000\n",
      "Iteration number 6,          x= 0.476562500000\n",
      "Iteration number 7,          x= 0.480468750000\n",
      "Iteration number 8,          x= 0.478515625000\n",
      "Iteration number 9,          x= 0.479492187500\n",
      "Iteration number 10,          x= 0.479980468750\n",
      "Iteration number 11,          x= 0.479736328125\n",
      "Iteration number 12,          x= 0.479614257812\n",
      "Iteration number 13,          x= 0.479675292969\n",
      "Iteration number 14,          x= 0.479705810547\n",
      "Iteration number 15,          x= 0.479721069336\n",
      "Iteration number 16,          x= 0.479728698730\n",
      "Final iteration number 17,       x= 0.479732513428\n"
     ]
    }
   ],
   "source": [
    "h=1e-6\n",
    "def g(x):\n",
    "    return (x-1)*np.sin(x)\n",
    "\n",
    "def gest(x):\n",
    "    return (g(x+h)-g(x))/h\n",
    "\n",
    "a = 0\n",
    "b = 1\n",
    "acc = 0.5e-5\n",
    "\n",
    "ga = gest(a)                             \n",
    "gb = gest(b)\n",
    "\n",
    "if ga*gb>=0:\n",
    "    raise ValueError(\n",
    "    'Root is not bracketed.')\n",
    "\n",
    "n=0                                 \n",
    "while (b-a)/2 > acc:                    \n",
    "    x = (a+b)/2                          \n",
    "    gx = gest(x)                          \n",
    "    if gx == 0:\n",
    "         break                        \n",
    "    if gx*ga < 0:                       \n",
    "        b = x                           \n",
    "    else:\n",
    "        a = x                                            \n",
    "    print(\"Iteration number %d,\\\n",
    "          x= %.12f\" %(n, x))\n",
    "    n += 1                          \n",
    "\n",
    "x=(a+b)/2                       \n",
    "print('Final iteration number %d,\\\n",
    "       x= %.12f' %(n, x))"
   ]
  },
  {
   "cell_type": "code",
   "execution_count": 54,
   "metadata": {},
   "outputs": [
    {
     "data": {
      "image/png": "[encoded data removed]",
      "text/plain": [
       "<Figure size 864x216 with 2 Axes>"
      ]
     },
     "metadata": {
      "needs_background": "light"
     },
     "output_type": "display_data"
    }
   ],
   "source": [
    "fig, (ax1, ax2) = plt.subplots(1,2,\n",
    "                  figsize=(12,3))\n",
    "X=np.linspace(0.44,0.55)\n",
    "ax1.plot(X, (X-1)*np.sin(X))\n",
    "ax1.set(xlabel = 'x')\n",
    "ax1.set(ylabel = r'$f(x)$')\n",
    "ax1.grid('on')\n",
    "ax2.plot(X, np.sin(X)+(X-1)*np.cos(X), 'orange')\n",
    "ax2.set(xlabel = 'x')\n",
    "ax2.set(ylabel = r'$f\\,^\\prime(x)$')\n",
    "ax2.grid('on')\n",
    "plt.savefig('figmvt2.pdf')"
   ]
  },
  {
   "cell_type": "code",
   "execution_count": 55,
   "metadata": {},
   "outputs": [
    {
     "data": {
      "text/plain": [
       "2.718281828459045"
      ]
     },
     "execution_count": 55,
     "metadata": {},
     "output_type": "execute_result"
    }
   ],
   "source": [
    "np.exp(1)"
   ]
  },
  {
   "cell_type": "code",
   "execution_count": null,
   "metadata": {},
   "outputs": [],
   "source": []
  }
 ],
 "metadata": {
  "kernelspec": {
   "display_name": "Python 3",
   "language": "python",
   "name": "python3"
  },
  "language_info": {
   "codemirror_mode": {
    "name": "ipython",
    "version": 3
   },
   "file_extension": ".py",
   "mimetype": "text/x-python",
   "name": "python",
   "nbconvert_exporter": "python",
   "pygments_lexer": "ipython3",
   "version": "3.8.5"
  }
 },
 "nbformat": 4,
 "nbformat_minor": 4
}
