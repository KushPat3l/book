{
 "cells": [
  {
   "cell_type": "code",
   "execution_count": 2,
   "metadata": {},
   "outputs": [
    {
     "data": {
      "image/png": "[encoded data removed]",
      "text/plain": [
       "<Figure size 432x288 with 1 Axes>"
      ]
     },
     "metadata": {
      "needs_background": "light"
     },
     "output_type": "display_data"
    }
   ],
   "source": [
    "import numpy as np\n",
    "import matplotlib.pyplot as plt\n",
    "\n",
    "def f(x):\n",
    "    return np.exp(-x)-x\n",
    "\n",
    "x = np.linspace(0, 1)\n",
    "y = []\n",
    "for xx  in x:\n",
    "    yy = f(xx)\n",
    "    y.append(yy)\n",
    "\n",
    "plt.xlim([0, 1])\n",
    "plt.ylim([-0.6, 1])\n",
    "plt.grid('on')\n",
    "plt.axhline(y=0, color='k')\n",
    "plt.plot(x,y)\n",
    "plt.show()\n",
    "\n",
    "    "
   ]
  },
  {
   "cell_type": "code",
   "execution_count": 10,
   "metadata": {},
   "outputs": [
    {
     "name": "stdout",
     "output_type": "stream",
     "text": [
      "Iteration number 0,          x= 0.500000000000\n",
      "Iteration number 1,          x= 0.750000000000\n",
      "Iteration number 2,          x= 0.625000000000\n",
      "Iteration number 3,          x= 0.562500000000\n",
      "Iteration number 4,          x= 0.593750000000\n",
      "Iteration number 5,          x= 0.578125000000\n",
      "Iteration number 6,          x= 0.570312500000\n",
      "Iteration number 7,          x= 0.566406250000\n",
      "Iteration number 8,          x= 0.568359375000\n",
      "Iteration number 9,          x= 0.567382812500\n",
      "Iteration number 10,          x= 0.566894531250\n",
      "Iteration number 11,          x= 0.567138671875\n",
      "Iteration number 12,          x= 0.567260742188\n",
      "Iteration number 13,          x= 0.567199707031\n",
      "Iteration number 14,          x= 0.567169189453\n",
      "Iteration number 15,          x= 0.567153930664\n",
      "Iteration number 16,          x= 0.567146301270\n",
      "Final iteration number 17,       x= 0.567142486572\n"
     ]
    }
   ],
   "source": [
    "def f(x):\n",
    "    return np.exp(-x)-x\n",
    "\n",
    "a = 0\n",
    "b = 1\n",
    "acc = 0.5e-5\n",
    "\n",
    "fa = f(a)                             \n",
    "fb = f(b)\n",
    "\n",
    "if fa*fb>=0:\n",
    "    raise ValueError(\n",
    "    'Root is not bracketed.')\n",
    "\n",
    "n=0                                 \n",
    "while (b-a)/2 > acc:                    \n",
    "    x = (a+b)/2                          \n",
    "    fx = f(x)                          \n",
    "    if fx == 0:\n",
    "         break                        \n",
    "    if fx*fa < 0:                       \n",
    "        b = x                           \n",
    "    else:\n",
    "        a = x                                            \n",
    "    print(\"Iteration number %d,\\\n",
    "          x= %.12f\" %(n, x))\n",
    "    n += 1                          \n",
    "\n",
    "x=(a+b)/2                       \n",
    "print('Final iteration number %d,\\\n",
    "       x= %.12f' %(n, x))"
   ]
  },
  {
   "cell_type": "code",
   "execution_count": null,
   "metadata": {},
   "outputs": [],
   "source": []
  },
  {
   "cell_type": "code",
   "execution_count": null,
   "metadata": {},
   "outputs": [],
   "source": []
  },
  {
   "cell_type": "code",
   "execution_count": null,
   "metadata": {},
   "outputs": [],
   "source": []
  }
 ],
 "metadata": {
  "kernelspec": {
   "display_name": "Python 3",
   "language": "python",
   "name": "python3"
  },
  "language_info": {
   "codemirror_mode": {
    "name": "ipython",
    "version": 3
   },
   "file_extension": ".py",
   "mimetype": "text/x-python",
   "name": "python",
   "nbconvert_exporter": "python",
   "pygments_lexer": "ipython3",
   "version": "3.8.5"
  }
 },
 "nbformat": 4,
 "nbformat_minor": 4
}
