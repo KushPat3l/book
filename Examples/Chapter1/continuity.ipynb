{
 "cells": [
  {
   "cell_type": "code",
   "execution_count": 1,
   "metadata": {
    "scrolled": true
   },
   "outputs": [
    {
     "data": {
      "application/vnd.jupyter.widget-view+json": {
       "model_id": "31cd88a04fe64f229a7642cf5d207046",
       "version_major": 2,
       "version_minor": 0
      },
      "text/plain": [
       "interactive(children=(FloatSlider(value=0.25, description='eps', max=0.5, min=0.01, step=0.01), Output()), _do…"
      ]
     },
     "metadata": {},
     "output_type": "display_data"
    }
   ],
   "source": [
    "import matplotlib.pyplot as plt\n",
    "import numpy as np\n",
    "from ipywidgets import interactive\n",
    "\n",
    "def f(x):\n",
    "    return np.log(x+1)\n",
    "\n",
    "def finverse(x):\n",
    "    return np.exp(x)-1\n",
    "\n",
    "def plot(eps):\n",
    "    x = np.linspace(0, 2)\n",
    "    y = f(x)\n",
    "    x0 = 1\n",
    "    y0 = f(x0)\n",
    "    y0p = y0+eps\n",
    "    y0m = y0-eps\n",
    "    x0p = finverse(y0p)\n",
    "    x0m = finverse(y0m)\n",
    "    \n",
    "    vertical = [x0, x0p, x0m]\n",
    "    horizontal = [y0, y0p, y0m]\n",
    "    \n",
    "    plt.plot(x, y, 'r')   \n",
    "    for Y in horizontal:\n",
    "        plt.axhline(y = Y, color= 'k', \n",
    "                    linestyle = ':')    \n",
    "    for X in vertical:\n",
    "        plt.axvline(x = X, color= 'c', \n",
    "                    linestyle = ':')          \n",
    "    plt.show()       \n",
    "    \n",
    "    delta= min(abs(x0-x0p),abs(x0-x0m))\n",
    "    \n",
    "    print('Given ε = %.2f' %eps)\n",
    "    print('Found δ = %.4f' %delta)\n",
    "    \n",
    "interactive(plot, eps=(0.01,0.5, 0.01))"
   ]
  }
 ],
 "metadata": {
  "kernelspec": {
   "display_name": "Python 3",
   "language": "python",
   "name": "python3"
  },
  "language_info": {
   "codemirror_mode": {
    "name": "ipython",
    "version": 3
   },
   "file_extension": ".py",
   "mimetype": "text/x-python",
   "name": "python",
   "nbconvert_exporter": "python",
   "pygments_lexer": "ipython3",
   "version": "3.8.5"
  }
 },
 "nbformat": 4,
 "nbformat_minor": 5
}
