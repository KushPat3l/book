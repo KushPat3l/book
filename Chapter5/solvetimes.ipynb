{
 "cells": [
  {
   "cell_type": "code",
   "execution_count": null,
   "id": "dfbfd9e5-8107-4606-8eb5-7a96cec8cec7",
   "metadata": {},
   "outputs": [],
   "source": [
    "import numpy as np\n",
    "import matplotlib.pyplot as plt\n",
    "from scipy import linalg as LA\n",
    "from time import perf_counter as timer\n",
    "%matplotlib\n",
    "\n",
    "N=np.arange(1,5001,50)\n",
    "rng = np.random.default_rng()\n",
    "t1 = []\n",
    "t2 = []\n",
    "    \n",
    "for n in N:\n",
    "    A = rng.random((n,n))\n",
    "    b = np.ones((n,1))\n",
    "    \n",
    "    tic = timer()\n",
    "    x1 = LA.solve(A, b)\n",
    "    toc = timer()\n",
    "    t1.append(toc-tic)\n",
    "\n",
    "    tic = timer()\n",
    "    x2 = LA.inv(A)*b  \n",
    "    toc = timer()\n",
    "    t2.append(toc-tic)\n",
    "    \n",
    "plt.plot(N,t1, '-ro',N,t2, '-bx') \n",
    "plt.xlabel('Matrix dimension')\n",
    "plt.ylabel('Time (s)')\n",
    "plt.legend(['linalg.solve(A, b)', \n",
    "            'linalg.inv(A)*b'])\n",
    "plt.grid()\n",
    "plt.show()"
   ]
  }
 ],
 "metadata": {
  "kernelspec": {
   "display_name": "Python 3 (ipykernel)",
   "language": "python",
   "name": "python3"
  },
  "language_info": {
   "codemirror_mode": {
    "name": "ipython",
    "version": 3
   },
   "file_extension": ".py",
   "mimetype": "text/x-python",
   "name": "python",
   "nbconvert_exporter": "python",
   "pygments_lexer": "ipython3",
   "version": "3.9.12"
  }
 },
 "nbformat": 4,
 "nbformat_minor": 5
}
