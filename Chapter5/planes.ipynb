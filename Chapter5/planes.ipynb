{
 "cells": [
  {
   "cell_type": "code",
   "execution_count": null,
   "id": "8d77c958-73be-4556-b320-f0d2f35a2bef",
   "metadata": {},
   "outputs": [],
   "source": [
    "import plotly.graph_objects as go\n",
    "import numpy as np\n",
    "\n",
    "A = np.array([[1,0,-2], [1,-1,1], [2,1,-1]])\n",
    "b = np.array([1,1,0])\n",
    "\n",
    "x  = np.linspace(-5,5)\n",
    "y  = np.linspace(-5,5)\n",
    "X,Y= np.meshgrid(x,y)\n",
    "Z1 = (A[0,0]*X + A[0,1]*Y- b[0])/-A[0,2]\n",
    "Z2 = (A[1,0]*X + A[1,1]*Y- b[1])/-A[1,2]\n",
    "\n",
    "fig = go.Figure()\n",
    "\n",
    "plane1 = go.Surface(x=x, y=y, z=Z1, \n",
    "                    showscale=False)\n",
    "plane2 = go.Surface(x=x, y=y, z=Z2, \n",
    "                    showscale=False,\n",
    "                    colorscale='viridis')\n",
    " \n",
    "alpha = np.arange(-2, 2.1, 0.25)\n",
    "for a in alpha:\n",
    "    Z3= (A[2,0]*X + a*Y - b[2])/-A[2,2]\n",
    "    plane3 = go.Surface(x=x, y=y, z=Z3, \n",
    "                    showscale=False, \n",
    "                    colorscale='blues', \n",
    "                    opacity = 0.9,\n",
    "                    visible=False)\n",
    "    fig.add_traces([plane1,plane2,plane3])\n",
    "\n",
    "fig.data[2].visible = True\n",
    "\n",
    "steps = []\n",
    "\n",
    "for i, a in enumerate(alpha):\n",
    "    step = dict(\n",
    "     method=\"restyle\",\n",
    "     args=[{\"visible\":[False]*len(fig.data)}],  \n",
    "     label=str(a))\n",
    "    step[\"args\"][0][\"visible\"][3*i] = True \n",
    "    step[\"args\"][0][\"visible\"][3*i+1] = True \n",
    "    step[\"args\"][0][\"visible\"][3*i+2] = True \n",
    "    steps.append(step)\n",
    "\n",
    "sliders = [dict(steps=steps,              \n",
    "           currentvalue={\"prefix\": 'alpha='}, \n",
    "           font=dict(size=20))]\n",
    "\n",
    "fig.update_layout(sliders=sliders, width=700,\n",
    "    margin=dict(r=20, l=10, b=5, t=5),\n",
    "    scene = dict(zaxis = dict(range=[-5,5])),\n",
    "    scene_aspectmode='cube',\n",
    "    font=dict(size=18))\n",
    "\n",
    "fig.show(renderer='browser')"
   ]
  }
 ],
 "metadata": {
  "kernelspec": {
   "display_name": "Python 3 (ipykernel)",
   "language": "python",
   "name": "python3"
  },
  "language_info": {
   "codemirror_mode": {
    "name": "ipython",
    "version": 3
   },
   "file_extension": ".py",
   "mimetype": "text/x-python",
   "name": "python",
   "nbconvert_exporter": "python",
   "pygments_lexer": "ipython3",
   "version": "3.9.12"
  }
 },
 "nbformat": 4,
 "nbformat_minor": 5
}
