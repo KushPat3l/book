{
 "cells": [
  {
   "cell_type": "code",
   "execution_count": null,
   "id": "23d3a478-d135-488d-a4be-2731381bae43",
   "metadata": {},
   "outputs": [],
   "source": [
    "import numpy as np\n",
    "import sympy as sp\n",
    "import matplotlib.pyplot as plt\n",
    "%matplotlib\n",
    "\n",
    "x = sp.Symbol('x')\n",
    "v = sp.Matrix([[1,x, x**2,x**3, x**4, x**5]])\n",
    "e = sp.zeros(1,len(v))\n",
    "\n",
    "def Dot(f,g): \n",
    "    return sp.integrate(f*g, (x,-1,1))\n",
    "\n",
    "def norm(f):\n",
    "    return sp.sqrt(Dot(f,f))\n",
    "\n",
    "e[0] = v[0]/norm(v[0])\n",
    "print(f'e[0] = {e[0]}')\n",
    "\n",
    "xarray = np.linspace(-1,1,100)\n",
    "yarray = e[0]*np.ones_like(xarray)\n",
    "plt.plot(xarray,yarray)\n",
    "\n",
    "for i in range(1,len(v)):\n",
    "    vperp = v[i]\n",
    "    for j in range(1,i+1):\n",
    "        vperp -= Dot(v[i], e[j-1])*e[j-1]\n",
    "    e[i] = vperp/norm(vperp)\n",
    "    print(f'e[{i}] = {e[i]}')\n",
    "    f= sp.lambdify(x,e[i])\n",
    "    yarray = f(xarray)\n",
    "    plt.plot(xarray,yarray)\n",
    "\n",
    "plt.xlim((-1,1))\n",
    "plt.ylim((-2,2))\n",
    "plt.legend([r'$e_0$',r'$e_1$',r'$e_2$',\n",
    "            r'$e_3$',r'$e_4$',r'$e_5$'],\\\n",
    "          ncol=len(v),loc='lower right')\n",
    "plt.title(r'Orthonormal basis of $P_5$')\n",
    "plt.grid('on')\n",
    "plt.show() "
   ]
  }
 ],
 "metadata": {
  "kernelspec": {
   "display_name": "Python 3 (ipykernel)",
   "language": "python",
   "name": "python3"
  },
  "language_info": {
   "codemirror_mode": {
    "name": "ipython",
    "version": 3
   },
   "file_extension": ".py",
   "mimetype": "text/x-python",
   "name": "python",
   "nbconvert_exporter": "python",
   "pygments_lexer": "ipython3",
   "version": "3.9.17"
  }
 },
 "nbformat": 4,
 "nbformat_minor": 5
}
