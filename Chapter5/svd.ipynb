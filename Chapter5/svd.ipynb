{
 "cells": [
  {
   "cell_type": "code",
   "execution_count": 2,
   "id": "21afcf57-db43-4efe-934e-5ae0649251a7",
   "metadata": {},
   "outputs": [
    {
     "name": "stdout",
     "output_type": "stream",
     "text": [
      "Using matplotlib backend: MacOSX\n"
     ]
    }
   ],
   "source": [
    "import numpy as np\n",
    "import matplotlib.pyplot as plt\n",
    "from matplotlib.widgets import Slider\n",
    "from PIL import Image\n",
    "from scipy.linalg import svd\n",
    "%matplotlib\n",
    "\n",
    "A = Image.open('flowers.jpeg').convert('L')\n",
    "#import scipy.misc \n",
    "#A = scipy.misc.face(gray=True)\n",
    "\n",
    "U, s, VT = svd(A)\n",
    "\n",
    "def resize_image(N):\n",
    "    return U[:,:N] @ np.diag(s[:N]) @ VT[:N,:]\n",
    "\n",
    "fig,(ax1, ax2) = plt.subplots(1,2,\n",
    "                 figsize=(10,4))\n",
    "plt.subplots_adjust(bottom=0.2)\n",
    "ax1.set_xlim(1,len(s))\n",
    "ax1.title.set_text('Singular values') \n",
    "ax1.grid('on')\n",
    "ax1.loglog(s,'ro-', markersize=3)\n",
    "\n",
    "N = 10\n",
    "image = resize_image(N)\n",
    "ax2.imshow(image, cmap='gray')\n",
    "\n",
    "axt = plt.axes([0.125, 0.1, 0.355, 0.05]) \n",
    "N_slide = Slider(axt, 'N',\n",
    "          0, np.log10(len(s)), \n",
    "          valstep=0.05, valinit=1)\n",
    "N_slide.valtext.set_text(N)\n",
    "\n",
    "def update(val):\n",
    "    N = round(10**N_slide.val)\n",
    "    N_slide.valtext.set_text(N)\n",
    "    image = resize_image(N)\n",
    "    ax2.imshow(image, cmap='gray')\n",
    "    fig.canvas.draw_idle()\n",
    "    \n",
    "N_slide.on_changed(update)\n",
    "\n",
    "plt.show()"
   ]
  }
 ],
 "metadata": {
  "kernelspec": {
   "display_name": "Python 3 (ipykernel)",
   "language": "python",
   "name": "python3"
  },
  "language_info": {
   "codemirror_mode": {
    "name": "ipython",
    "version": 3
   },
   "file_extension": ".py",
   "mimetype": "text/x-python",
   "name": "python",
   "nbconvert_exporter": "python",
   "pygments_lexer": "ipython3",
   "version": "3.9.12"
  }
 },
 "nbformat": 4,
 "nbformat_minor": 5
}
