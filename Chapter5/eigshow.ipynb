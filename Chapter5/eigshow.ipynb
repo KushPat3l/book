{
 "cells": [
  {
   "cell_type": "code",
   "execution_count": null,
   "id": "80da9681-ee21-4f0c-8dff-747968df408f",
   "metadata": {},
   "outputs": [],
   "source": [
    "import numpy as np\n",
    "from scipy import linalg as LA\n",
    "import matplotlib.pyplot as plt\n",
    "from matplotlib.widgets import Slider\n",
    "%matplotlib\n",
    "\n",
    "A = np.array([[1,1],[1.5,0.5]])\n",
    "lam, w = LA.eig(A)\n",
    "\n",
    "fig, ax = plt.subplots()\n",
    "plt.subplots_adjust(bottom=0.2)\n",
    "ax.set_aspect('equal') \n",
    "ax.set_title('Make the vectors parallel!') \n",
    "ax.axis([-2,2,-2,2])\n",
    "ax.grid('on')\n",
    "\n",
    "Vec1, = ax.plot([0,1], [0,0],'bo-')\n",
    "Vec2, = ax.plot([0,A[0,0]], [0,A[1,0]],'ro-')\n",
    "plt.legend(['x', 'Ax'], loc='lower right')\n",
    "\n",
    "Curve1,=ax.plot(1, 0,'b:')\n",
    "Curve2,=ax.plot(A[0,0], A[1,0],'r--')\n",
    "ax.plot([-w[0,0],w[0,0]], \n",
    "        [-w[1,0],w[1,0]],'g', lw=0.5)\n",
    "ax.plot([-w[0,1],w[0,1]], \n",
    "        [-w[1,1],w[1,1]],'g', lw=0.5)\n",
    "\n",
    "axt = plt.axes([0.25, 0.1, 0.5, 0.02]) \n",
    "t_slide = Slider(axt, r'$\\theta$',\n",
    "             0, 2*np.pi, valstep=0.001,\n",
    "             valinit=0)\n",
    "\n",
    "def update(val):\n",
    "    t = t_slide.val\n",
    "    T = np.linspace(0,t,100)\n",
    "    \n",
    "    cT = np.cos(T)\n",
    "    sT = np.sin(T)\n",
    "    xT = np.array([[cT],[sT]]).reshape(2,len(T))\n",
    "    AxT= A@xT\n",
    "    \n",
    "    Vec1.set_data([0,cT[-1]], [0,sT[-1]])\n",
    "    Vec2.set_data([0,AxT[0,-1]], [0,AxT[1,-1]])\n",
    "    Curve1.set_data(cT, sT)\n",
    "    Curve2.set_data(AxT[0,:], AxT[1,:])\n",
    "    \n",
    "    fig.canvas.draw_idle()\n",
    "    \n",
    "t_slide.on_changed(update)\n",
    "\n",
    "plt.show()"
   ]
  }
 ],
 "metadata": {
  "kernelspec": {
   "display_name": "Python 3 (ipykernel)",
   "language": "python",
   "name": "python3"
  },
  "language_info": {
   "codemirror_mode": {
    "name": "ipython",
    "version": 3
   },
   "file_extension": ".py",
   "mimetype": "text/x-python",
   "name": "python",
   "nbconvert_exporter": "python",
   "pygments_lexer": "ipython3",
   "version": "3.9.12"
  }
 },
 "nbformat": 4,
 "nbformat_minor": 5
}
