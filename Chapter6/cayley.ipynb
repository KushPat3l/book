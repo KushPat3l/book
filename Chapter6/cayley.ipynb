{
 "cells": [
  {
   "cell_type": "code",
   "execution_count": null,
   "id": "6cf81bbf-ce7e-47b5-bf5a-d61cd35fdcd9",
   "metadata": {},
   "outputs": [],
   "source": [
    "import numpy as np\n",
    "import matplotlib.pyplot as plt\n",
    "\n",
    "N = np.arange(0,10)\n",
    "Nmod = 10\n",
    "labels = True\n",
    "\n",
    "f = lambda i,j : (i+j) % Nmod\n",
    "\n",
    "array=np.fromfunction(lambda i,j:f(N[i],N[j]),\n",
    "                   (len(N),len(N)), dtype=int)\n",
    "\n",
    "plt.imshow(array, cmap='hsv',          \n",
    "           vmin = N[0], vmax = len(N))\n",
    "\n",
    "if labels:\n",
    "    for ind, x in np.ndenumerate(array):\n",
    "        plt.text(s = str(x), \n",
    "        x = ind[1], y = ind[0], \n",
    "        va='center', ha='center')\n",
    "        \n",
    "plt.title(r'($\\mathbb{Z}_{10}, +)$')\n",
    "plt.axis('off')\n",
    "plt.show()"
   ]
  }
 ],
 "metadata": {
  "kernelspec": {
   "display_name": "Python 3 (ipykernel)",
   "language": "python",
   "name": "python3"
  },
  "language_info": {
   "codemirror_mode": {
    "name": "ipython",
    "version": 3
   },
   "file_extension": ".py",
   "mimetype": "text/x-python",
   "name": "python",
   "nbconvert_exporter": "python",
   "pygments_lexer": "ipython3",
   "version": "3.9.12"
  }
 },
 "nbformat": 4,
 "nbformat_minor": 5
}
