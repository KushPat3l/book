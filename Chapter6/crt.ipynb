{
 "cells": [
  {
   "cell_type": "code",
   "execution_count": null,
   "id": "a709a019-b0cd-4b7a-8cba-3acfb9ebe382",
   "metadata": {},
   "outputs": [],
   "source": [
    "import numpy as np\n",
    "import matplotlib.pyplot as plt\n",
    "from sympy.ntheory.modular import\\\n",
    "     solve_congruence\n",
    "%matplotlib\n",
    "\n",
    "m0 = 7\n",
    "m1 = 8\n",
    "\n",
    "neg = -100\n",
    "\n",
    "def f(i,j):\n",
    "    u = solve_congruence((i, m0), (j, m1))\n",
    "    if u==None:\n",
    "        return neg\n",
    "    else:\n",
    "        return int(u[0])\n",
    "\n",
    "array=np.fromfunction(np.vectorize(f),\n",
    "                   (m0,m1), dtype=int)\n",
    "\n",
    "plt.imshow(array, cmap='magma',          \n",
    "           vmin = neg, vmax = m0*m1)\n",
    "\n",
    "for ind, x in np.ndenumerate(array):\n",
    "    if x!=neg:\n",
    "        plt.text(s = str(x), \n",
    "        x = ind[1], y = ind[0], \n",
    "        va='center', ha='center',fontsize=12)\n",
    "        \n",
    "plt.title(f'x=(#row-1) (mod {m0}) and ' \n",
    "          f'x = (#col-1) (mod {m1})',  \n",
    "          fontsize=12)\n",
    "plt.axis('off')\n",
    "plt.show()"
   ]
  }
 ],
 "metadata": {
  "kernelspec": {
   "display_name": "Python 3 (ipykernel)",
   "language": "python",
   "name": "python3"
  },
  "language_info": {
   "codemirror_mode": {
    "name": "ipython",
    "version": 3
   },
   "file_extension": ".py",
   "mimetype": "text/x-python",
   "name": "python",
   "nbconvert_exporter": "python",
   "pygments_lexer": "ipython3",
   "version": "3.9.17"
  }
 },
 "nbformat": 4,
 "nbformat_minor": 5
}
