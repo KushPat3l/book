{
 "cells": [
  {
   "cell_type": "code",
   "execution_count": null,
   "id": "2c93366e-08ff-49cd-b837-3c33b9246c09",
   "metadata": {},
   "outputs": [],
   "source": [
    "import numpy as np\n",
    "import matplotlib.pyplot as plt\n",
    "from sympy import sieve\n",
    "from sympy.ntheory import legendre_symbol\n",
    "%matplotlib\n",
    "\n",
    "Pmax = 85\n",
    "L = list(sieve.primerange(3,Pmax))\n",
    "                \n",
    "f = lambda i,j: legendre_symbol(L[i], L[j])\n",
    "\n",
    "array = np.fromfunction(np.vectorize(f),\n",
    "            (len(L),len(L)), dtype=int)\n",
    "\n",
    "array = np.vstack((L, array))\n",
    "u = [2]+ L\n",
    "array = np.column_stack((u,array))\n",
    "\n",
    "plt.imshow(array, cmap='terrain',          \n",
    "        vmin = -1, vmax = 2, origin='lower')\n",
    "\n",
    "for ind, x in np.ndenumerate(array):\n",
    "    if x==2:\n",
    "        plt.text(s='p/q', x = 0, y = 0, \n",
    "        va='center', ha='center',fontsize=7)\n",
    "    else:\n",
    "        plt.text(s = str(x), \n",
    "        x = ind[1], y = ind[0], \n",
    "        va='center', ha='center',fontsize=7)\n",
    "        \n",
    "plt.title('  Legendre symbols', fontsize=10)\n",
    "plt.axis('off')\n",
    "plt.show()"
   ]
  }
 ],
 "metadata": {
  "kernelspec": {
   "display_name": "Python 3 (ipykernel)",
   "language": "python",
   "name": "python3"
  },
  "language_info": {
   "codemirror_mode": {
    "name": "ipython",
    "version": 3
   },
   "file_extension": ".py",
   "mimetype": "text/x-python",
   "name": "python",
   "nbconvert_exporter": "python",
   "pygments_lexer": "ipython3",
   "version": "3.9.12"
  }
 },
 "nbformat": 4,
 "nbformat_minor": 5
}
