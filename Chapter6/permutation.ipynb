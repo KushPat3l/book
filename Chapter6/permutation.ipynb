{
 "cells": [
  {
   "cell_type": "code",
   "execution_count": null,
   "id": "3a32c3b0-c4e9-4291-94b7-dbd8cc581714",
   "metadata": {},
   "outputs": [],
   "source": [
    "import numpy as np\n",
    "import matplotlib.pyplot as plt\n",
    "from sympy.combinatorics.generators import \\\n",
    "     symmetric\n",
    "%matplotlib\n",
    "\n",
    "G = list(symmetric(4))\n",
    "labels = True\n",
    "\n",
    "f = lambda i,j : G.index(G[j]*G[i]) \n",
    "\n",
    "array=np.fromfunction(np.vectorize(f),\n",
    "           (len(G),len(G)), dtype=int)\n",
    "\n",
    "plt.imshow(array, cmap='hsv',          \n",
    "           vmin = 0, vmax = len(G))\n",
    "\n",
    "if labels:\n",
    "    for ind, x in np.ndenumerate(array):\n",
    "        plt.text(s = str(x), \n",
    "        x = ind[1], y = ind[0], \n",
    "        va='center', ha='center', fontsize=9)\n",
    "        \n",
    "plt.title(r'$S_4$',  fontsize=12)\n",
    "plt.axis('off')\n",
    "plt.show()"
   ]
  }
 ],
 "metadata": {
  "kernelspec": {
   "display_name": "Python 3 (ipykernel)",
   "language": "python",
   "name": "python3"
  },
  "language_info": {
   "codemirror_mode": {
    "name": "ipython",
    "version": 3
   },
   "file_extension": ".py",
   "mimetype": "text/x-python",
   "name": "python",
   "nbconvert_exporter": "python",
   "pygments_lexer": "ipython3",
   "version": "3.9.12"
  }
 },
 "nbformat": 4,
 "nbformat_minor": 5
}
