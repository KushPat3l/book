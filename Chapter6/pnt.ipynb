{
 "cells": [
  {
   "cell_type": "code",
   "execution_count": null,
   "id": "492e90ea-649c-4ec8-9bb2-e94bb9fe3fb1",
   "metadata": {},
   "outputs": [],
   "source": [
    "import numpy as np\n",
    "import matplotlib.pyplot as plt\n",
    "from scipy.integrate import quad\n",
    "from sympy import primepi\n",
    "%matplotlib\n",
    "\n",
    "Nmin=1e1\n",
    "Nmax=1e8\n",
    "\n",
    "Nlist = np.logspace(np.log10(Nmin),\n",
    "                    np.log10(Nmax),300)\n",
    "\n",
    "P = [primepi(n) for n in Nlist] \n",
    "\n",
    "def li(x):\n",
    "    X, err = quad(lambda t: 1/np.log(t),2,x)\n",
    "    return X \n",
    "\n",
    "Li = np.vectorize(li) \n",
    "\n",
    "PNT1 = Nlist/(np.log(Nlist))\n",
    "PNT2 = Li(Nlist)\n",
    "\n",
    "err1 = P/PNT1\n",
    "err2 = P/PNT2\n",
    "\n",
    "plt.semilogx(Nlist, err1, \n",
    "             Nlist, err2,\n",
    "             Nlist, np.ones_like(Nlist),'k--')\n",
    "plt.xlim(Nmin,Nmax)\n",
    "plt.grid()\n",
    "plt.xlabel('x')\n",
    "plt.legend([r'$\\pi(x)/(x/\\ln x)ß$',\n",
    "            r'$\\pi(x)/Li(x)$'])\n",
    "plt.show()"
   ]
  }
 ],
 "metadata": {
  "kernelspec": {
   "display_name": "Python 3 (ipykernel)",
   "language": "python",
   "name": "python3"
  },
  "language_info": {
   "codemirror_mode": {
    "name": "ipython",
    "version": 3
   },
   "file_extension": ".py",
   "mimetype": "text/x-python",
   "name": "python",
   "nbconvert_exporter": "python",
   "pygments_lexer": "ipython3",
   "version": "3.9.12"
  }
 },
 "nbformat": 4,
 "nbformat_minor": 5
}
