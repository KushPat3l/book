{
 "cells": [
  {
   "cell_type": "code",
   "execution_count": null,
   "id": "e70c86fe-e4c9-491a-9932-5461772b9d6b",
   "metadata": {},
   "outputs": [],
   "source": [
    "import numpy as np\n",
    "import matplotlib.pyplot as plt\n",
    "%matplotlib\n",
    "\n",
    "n=6\n",
    "\n",
    "theta = 2*np.pi/n\n",
    "C, S = np.cos(theta), np.sin(theta)\n",
    "rot = np.array([[C,-S,0],[S, C,0],[0,0,1]])\n",
    "ref = np.array([[1, 0,0],[0,-1,0],[0,0,1]])\n",
    "k = np.array([0,0,1])\n",
    "V = np.array([1,0,1])\n",
    "U = V\n",
    "\n",
    "for i in range(n-1):\n",
    "    U = rot@U + k\n",
    "    V= np.vstack((V, U))\n",
    "    \n",
    "V = np.vstack((V,np.array([1,0,1]))).T\n",
    "V = np.linalg.matrix_power(rot,3)@V\n",
    "\n",
    "poly_x = V[0,:]\n",
    "poly_y = V[1,:]\n",
    "poly_z = V[2,:]\n",
    "\n",
    "plt.plot(poly_x, poly_y, 'ko-')\n",
    "\n",
    "for i, X in enumerate(poly_x):\n",
    "    plt.text(x = 1.1*X, y = 1.1*poly_y[i], \n",
    "             s=int(poly_z[i]), fontsize=18,\n",
    "             ha = 'center', va = 'center')\n",
    "\n",
    "for i in range(n):\n",
    "    Tx = np.array([0,poly_x[i],poly_x[i+1]])\n",
    "    Ty = np.array([0,poly_y[i],poly_y[i+1]])\n",
    "    plt.fill(Tx, Ty)\n",
    "    \n",
    "plt.axis('square')\n",
    "plt.axis('off')\n",
    "plt.show()"
   ]
  }
 ],
 "metadata": {
  "kernelspec": {
   "display_name": "Python 3 (ipykernel)",
   "language": "python",
   "name": "python3"
  },
  "language_info": {
   "codemirror_mode": {
    "name": "ipython",
    "version": 3
   },
   "file_extension": ".py",
   "mimetype": "text/x-python",
   "name": "python",
   "nbconvert_exporter": "python",
   "pygments_lexer": "ipython3",
   "version": "3.9.12"
  }
 },
 "nbformat": 4,
 "nbformat_minor": 5
}
