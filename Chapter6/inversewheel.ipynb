{
 "cells": [
  {
   "cell_type": "code",
   "execution_count": null,
   "id": "6f54cb51-652b-4a1b-8963-5b4ef360ed26",
   "metadata": {},
   "outputs": [],
   "source": [
    "import numpy as np\n",
    "import matplotlib.pyplot as plt\n",
    "%matplotlib\n",
    "\n",
    "n = 88\n",
    "label = True\n",
    "\n",
    "t = np.linspace(0,2*np.pi)\n",
    "plt.plot(np.cos(t), np.sin(t), 'b')\n",
    "\n",
    "A=[a for a in range(1,n+1) if np.gcd(a,n)==1]\n",
    "B=[pow(a,-1,n) for a in A]\n",
    "\n",
    "for i, a in enumerate(A):\n",
    "    tA, tB = 2*np.pi*a/n, 2*np.pi*B[i]/n\n",
    "    xA, yA = np.cos(tA), np.sin(tA)\n",
    "    xB, yB = np.cos(tB), np.sin(tB)\n",
    "    plt.plot([xA, xB], [yA, yB], 'ro-')\n",
    "    if (label):\n",
    "        plt.text(x= 1.1*xA, y= 1.1*yA, s = a, \n",
    "        fontsize=9, ha='center', va='center')\n",
    "    \n",
    "plt.axis('square')\n",
    "plt.axis('off')\n",
    "plt.show()"
   ]
  }
 ],
 "metadata": {
  "kernelspec": {
   "display_name": "Python 3 (ipykernel)",
   "language": "python",
   "name": "python3"
  },
  "language_info": {
   "codemirror_mode": {
    "name": "ipython",
    "version": 3
   },
   "file_extension": ".py",
   "mimetype": "text/x-python",
   "name": "python",
   "nbconvert_exporter": "python",
   "pygments_lexer": "ipython3",
   "version": "3.9.12"
  }
 },
 "nbformat": 4,
 "nbformat_minor": 5
}
