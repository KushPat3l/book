{
 "cells": [
  {
   "cell_type": "code",
   "execution_count": null,
   "id": "f5ba3a03",
   "metadata": {
    "scrolled": true
   },
   "outputs": [],
   "source": [
    "import matplotlib.pyplot as plt\n",
    "import numpy as np\n",
    "from ipywidgets import interactive\n",
    "\n",
    "def f(x):\n",
    "    return np.log(x+1)\n",
    "\n",
    "def finverse(x):\n",
    "    return np.exp(x)-1\n",
    "\n",
    "def plot(eps):\n",
    "    x = np.linspace(0, 2)\n",
    "    y = f(x)\n",
    "    x0 = 1\n",
    "    y0 = f(x0)\n",
    "    y0p = y0+eps\n",
    "    y0m = y0-eps\n",
    "    x0p = finverse(y0p)\n",
    "    x0m = finverse(y0m)\n",
    "    \n",
    "    vertical = [x0, x0p, x0m]\n",
    "    horizontal = [y0, y0p, y0m]\n",
    "    \n",
    "    plt.plot(x, y, 'r')   \n",
    "    for Y in horizontal:\n",
    "        plt.axhline(y = Y, color= 'k', \n",
    "                    linestyle = ':')    \n",
    "    for X in vertical:\n",
    "        plt.axvline(x = X, color= 'c', \n",
    "                    linestyle = ':')          \n",
    "    plt.show()       \n",
    "    \n",
    "    delta= min(abs(x0-x0p),abs(x0-x0m))\n",
    "    \n",
    "    print(f'Given ε = {eps}')\n",
    "    print(f'Found δ = {delta:.4}')\n",
    "    \n",
    "interactive(plot, eps=(0.01,0.5, 0.01))"
   ]
  }
 ],
 "metadata": {
  "kernelspec": {
   "display_name": "Python 3 (ipykernel)",
   "language": "python",
   "name": "python3"
  },
  "language_info": {
   "codemirror_mode": {
    "name": "ipython",
    "version": 3
   },
   "file_extension": ".py",
   "mimetype": "text/x-python",
   "name": "python",
   "nbconvert_exporter": "python",
   "pygments_lexer": "ipython3",
   "version": "3.9.12"
  }
 },
 "nbformat": 4,
 "nbformat_minor": 5
}
