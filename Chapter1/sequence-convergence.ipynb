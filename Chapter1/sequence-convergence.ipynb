{
 "cells": [
  {
   "cell_type": "code",
   "execution_count": null,
   "metadata": {},
   "outputs": [],
   "source": [
    "import numpy as np\n",
    "import matplotlib.pyplot as plt\n",
    "\n",
    "n=np.arange(1,40)\n",
    "\n",
    "recp = 1/n\n",
    "xn = 1-recp\n",
    "err_xn = recp\n",
    "\n",
    "yn = np.sin(n)/n\n",
    "err_yn = abs(yn)\n",
    "\n",
    "zn = np.log(n)/n\n",
    "err_zn = abs(zn)\n",
    "\n",
    "En = (1+recp)**n\n",
    "err_En = abs(En-np.e)\n",
    "\n",
    "plt.plot(n, err_xn , n, err_yn , '--', \n",
    "         n, err_zn, '-.', n, err_En,':')\n",
    "plt.ylim((0,0.4))\n",
    "plt.xlabel('n')\n",
    "plt.ylabel('Error') \n",
    "plt.legend([r'$|x_n-1|$', r'$|y_n|$',\n",
    "            r'$|z_n|$', r'$|E_n-e|$']) \n",
    "plt.grid('on')\n",
    "plt.show()"
   ]
  }
 ],
 "metadata": {
  "kernelspec": {
   "display_name": "Python 3 (ipykernel)",
   "language": "python",
   "name": "python3"
  },
  "language_info": {
   "codemirror_mode": {
    "name": "ipython",
    "version": 3
   },
   "file_extension": ".py",
   "mimetype": "text/x-python",
   "name": "python",
   "nbconvert_exporter": "python",
   "pygments_lexer": "ipython3",
   "version": "3.9.12"
  }
 },
 "nbformat": 4,
 "nbformat_minor": 4
}
