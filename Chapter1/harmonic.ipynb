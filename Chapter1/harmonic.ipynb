{
 "cells": [
  {
   "cell_type": "code",
   "execution_count": null,
   "metadata": {},
   "outputs": [],
   "source": [
    "import numpy as np\n",
    "import matplotlib.pyplot as plt\n",
    "\n",
    "Nmax = 1e5\n",
    "n = np.arange(1, Nmax+1)\n",
    "hplot = np.zeros_like(n)\n",
    "harmo = 0\n",
    "\n",
    "for N  in np.arange(0, int(Nmax)):\n",
    "    harmo += 1/n[N]\n",
    "    hplot[N]=harmo\n",
    "    \n",
    "    \n",
    "fig, (ax1, ax2) = plt.subplots(2, \n",
    "                  figsize=(5,6))\n",
    "\n",
    "ax1.semilogx(n, hplot , \n",
    "             n, np.log(n) , '--')\n",
    "ax1.set_xlim([10, Nmax])\n",
    "ax1.set_ylim([2, 12])\n",
    "ax1.legend(['Harmonic series', 'ln n'], \n",
    "           bbox_to_anchor=(1, 0.3))\n",
    "ax1.grid('on')\n",
    "\n",
    "ax2.semilogx(n, hplot-np.log(n), 'red')\n",
    "ax2.set_xlim([10, Nmax])\n",
    "ax2.set_ylim([0.57, 0.63])\n",
    "ax2.legend(['Harmonic - ln n'])\n",
    "ax2.grid('on')\n",
    "ax2.set(xlabel = 'n')\n",
    "plt.show()"
   ]
  }
 ],
 "metadata": {
  "kernelspec": {
   "display_name": "Python 3 (ipykernel)",
   "language": "python",
   "name": "python3"
  },
  "language_info": {
   "codemirror_mode": {
    "name": "ipython",
    "version": 3
   },
   "file_extension": ".py",
   "mimetype": "text/x-python",
   "name": "python",
   "nbconvert_exporter": "python",
   "pygments_lexer": "ipython3",
   "version": "3.9.12"
  }
 },
 "nbformat": 4,
 "nbformat_minor": 4
}
