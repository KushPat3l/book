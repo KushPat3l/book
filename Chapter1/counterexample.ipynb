{
 "cells": [
  {
   "cell_type": "code",
   "execution_count": null,
   "metadata": {},
   "outputs": [],
   "source": [
    "import matplotlib.pyplot as plt\n",
    "import numpy as np\n",
    "\n",
    "def f(xarray):\n",
    "    y=np.zeros_like(xarray)\n",
    "    for i, x in enumerate(xarray):\n",
    "        if x==0:\n",
    "            y[i] = 0\n",
    "        else: \n",
    "            y[i] = x*(1+2*x*np.sin(1/x))\n",
    "    return y\n",
    "\n",
    "fig, (ax1, ax2) = plt.subplots(1,2,\n",
    "                  figsize=(10,6))\n",
    "x1 = np.linspace(-0.4, 0.4, 100)\n",
    "x2 = np.linspace(-0.04, 0.04, 100)\n",
    "\n",
    "ax1.plot(x1, f(x1))\n",
    "ax1.set_ylim(-0.4, 0.4)\n",
    "ax1.title.set_text('y=f(x)')\n",
    "ax1.grid('on')\n",
    "\n",
    "ax2.plot(x2, f(x2))\n",
    "ax2.set_ylim(-0.04,0.04)\n",
    "ax2.title.set_text('Zoomed')\n",
    "ax2.grid('on')\n",
    "\n",
    "plt.show()"
   ]
  }
 ],
 "metadata": {
  "kernelspec": {
   "display_name": "Python 3 (ipykernel)",
   "language": "python",
   "name": "python3"
  },
  "language_info": {
   "codemirror_mode": {
    "name": "ipython",
    "version": 3
   },
   "file_extension": ".py",
   "mimetype": "text/x-python",
   "name": "python",
   "nbconvert_exporter": "python",
   "pygments_lexer": "ipython3",
   "version": "3.9.12"
  }
 },
 "nbformat": 4,
 "nbformat_minor": 4
}
