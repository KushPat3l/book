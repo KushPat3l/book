{
 "cells": [
  {
   "cell_type": "code",
   "execution_count": null,
   "metadata": {},
   "outputs": [],
   "source": [
    "import numpy as np\n",
    "import matplotlib.pyplot as plt\n",
    "\n",
    "Nend = 25\n",
    "\n",
    "F = np.zeros(Nend+1)\n",
    "R = np.zeros(Nend+1)\n",
    "\n",
    "F[1] = 1\n",
    "F[2] = 1\n",
    "\n",
    "for i in np.arange(3,Nend+1):\n",
    "    F[i]=F[i-1]+F[i-2]\n",
    "    R[i]=F[i]/F[i-1]\n",
    " \n",
    "fig,(ax1,ax2)=plt.subplots(1,2,figsize=(11,4))\n",
    "\n",
    "Nmin = 5\n",
    "Nplt = range(Nmin, Nend+1)\n",
    "\n",
    "ax1.semilogy(Nplt, F[Nmin:Nend+1], 'bo-', ms=3)\n",
    "ax1.set_xlabel(r'$n$')\n",
    "ax1.set_ylabel(r'$F_n$')\n",
    "ax1.set_xlim(Nmin, Nend)\n",
    "ax1.set_xticks(range(Nmin, Nend+1, 5))\n",
    "ax1.grid('on')\n",
    "\n",
    "ax2.plot(Nplt, R[Nmin:Nend+1], 'ro-', ms=3)\n",
    "ax2.set_xlabel(r'$n$')\n",
    "ax2.set_ylabel(r'$F_{n}/F_{n-1}$')\n",
    "ax2.set_xlim(Nmin, Nend)\n",
    "ax2.set_xticks(range(Nmin, Nend+1, 5))\n",
    "ax2.grid('on')\n",
    "\n",
    "plt.show()"
   ]
  }
 ],
 "metadata": {
  "kernelspec": {
   "display_name": "Python 3 (ipykernel)",
   "language": "python",
   "name": "python3"
  },
  "language_info": {
   "codemirror_mode": {
    "name": "ipython",
    "version": 3
   },
   "file_extension": ".py",
   "mimetype": "text/x-python",
   "name": "python",
   "nbconvert_exporter": "python",
   "pygments_lexer": "ipython3",
   "version": "3.9.17"
  }
 },
 "nbformat": 4,
 "nbformat_minor": 4
}
