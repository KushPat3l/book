{
 "cells": [
  {
   "cell_type": "code",
   "execution_count": null,
   "metadata": {},
   "outputs": [],
   "source": [
    "import numpy as np\n",
    "import matplotlib.pyplot as plt\n",
    "\n",
    "Nend = 25\n",
    "\n",
    "F=np.zeros(Nend+1)\n",
    "R=np.zeros(Nend+1)\n",
    "\n",
    "F[1] = 1\n",
    "F[2] = 1\n",
    "\n",
    "for i in np.arange(3,Nend+1):\n",
    "    F[i]=F[i-1]+F[i-2]\n",
    "    R[i]=F[i]/F[i-1]\n",
    " \n",
    "fig, (ax1, ax2) = plt.subplots(1,2,\n",
    "                  figsize=(10,4))\n",
    "\n",
    "ax1.semilogy(np.arange(1,Nend+1), F[1:Nend+1])\n",
    "ax1.set(xlabel = 'n')\n",
    "ax1.set(ylabel = r'$F_n$')\n",
    "ax1.grid('on')\n",
    "\n",
    "ax2.plot(np.arange(5,Nend+1), R[5:Nend+1],'red')\n",
    "ax2.set(xlabel = 'n')\n",
    "ax2.set(ylabel = r'$F_{n}/F_{n-1}$')\n",
    "ax2.grid('on')\n",
    "plt.show()"
   ]
  }
 ],
 "metadata": {
  "kernelspec": {
   "display_name": "Python 3 (ipykernel)",
   "language": "python",
   "name": "python3"
  },
  "language_info": {
   "codemirror_mode": {
    "name": "ipython",
    "version": 3
   },
   "file_extension": ".py",
   "mimetype": "text/x-python",
   "name": "python",
   "nbconvert_exporter": "python",
   "pygments_lexer": "ipython3",
   "version": "3.9.12"
  }
 },
 "nbformat": 4,
 "nbformat_minor": 4
}
