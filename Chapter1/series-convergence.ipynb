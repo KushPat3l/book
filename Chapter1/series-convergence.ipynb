{
 "cells": [
  {
   "cell_type": "code",
   "execution_count": null,
   "id": "f8b53639-bfbd-43ed-93b3-a32513845c04",
   "metadata": {},
   "outputs": [],
   "source": [
    "import numpy as np\n",
    "import matplotlib.pyplot as plt\n",
    "\n",
    "x=np.arange(1,11)\n",
    "\n",
    "S=np.zeros(len(x))\n",
    "\n",
    "def afunc(k):\n",
    "    return 1/k**2\n",
    "\n",
    "S[0] = afunc(1)\n",
    "\n",
    "for i in range(1,len(x)):\n",
    "    S[i] = S[i-1]+afunc(x[i])\n",
    "\n",
    "plt.plot(x,S, 'o-')\n",
    "plt.xlim(1,10)\n",
    "plt.xlabel('Number of terms')\n",
    "plt.ylabel('Partial sum')\n",
    "plt.legend(['a'])\n",
    "plt.grid('on')\n",
    "plt.show()"
   ]
  }
 ],
 "metadata": {
  "kernelspec": {
   "display_name": "Python 3 (ipykernel)",
   "language": "python",
   "name": "python3"
  },
  "language_info": {
   "codemirror_mode": {
    "name": "ipython",
    "version": 3
   },
   "file_extension": ".py",
   "mimetype": "text/x-python",
   "name": "python",
   "nbconvert_exporter": "python",
   "pygments_lexer": "ipython3",
   "version": "3.9.17"
  }
 },
 "nbformat": 4,
 "nbformat_minor": 5
}
