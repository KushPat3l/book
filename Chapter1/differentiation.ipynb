{
 "cells": [
  {
   "cell_type": "code",
   "execution_count": null,
   "metadata": {},
   "outputs": [],
   "source": [
    "import numpy as np\n",
    "import matplotlib.pyplot as plt\n",
    "\n",
    "def g(x):\n",
    "    return np.sqrt(np.abs(x))\n",
    "\n",
    "h=1e-6\n",
    "xp= np.linspace(0,1)\n",
    "xn= np.linspace(-1,-h)\n",
    "gxp = g(xp)\n",
    "gxn = g(xn)\n",
    "dgp = (g(xp+h) - gxp)/h\n",
    "dgn = (g(xn+h) - gxn)/h\n",
    "\n",
    "plt.plot(xp, gxp, 'b--', \n",
    "         xp, dgp, 'orange', \n",
    "         xn, gxn, 'b--',  \n",
    "         xn, dgn, 'orange')\n",
    "plt.legend([\"y=g(x)\" ,\"y=g'(x)\"])\n",
    "plt.grid('on')\n",
    "plt.xlim([-1,1])\n",
    "plt.ylim([-2,2])\n",
    "plt.show()"
   ]
  }
 ],
 "metadata": {
  "kernelspec": {
   "display_name": "Python 3 (ipykernel)",
   "language": "python",
   "name": "python3"
  },
  "language_info": {
   "codemirror_mode": {
    "name": "ipython",
    "version": 3
   },
   "file_extension": ".py",
   "mimetype": "text/x-python",
   "name": "python",
   "nbconvert_exporter": "python",
   "pygments_lexer": "ipython3",
   "version": "3.9.12"
  }
 },
 "nbformat": 4,
 "nbformat_minor": 4
}
