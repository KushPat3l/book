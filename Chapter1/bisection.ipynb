{
 "cells": [
  {
   "cell_type": "code",
   "execution_count": null,
   "metadata": {},
   "outputs": [],
   "source": [
    "import numpy as np\n",
    "import matplotlib.pyplot as plt\n",
    "\n",
    "def f(x):\n",
    "    return np.exp(-x)-x\n",
    "\n",
    "acc = 0.5e-5\n",
    "a, b = 0, 1\n",
    "\n",
    "fa, fb = f(a), f(b)                             \n",
    "\n",
    "if fa*fb>=0:\n",
    "    raise ValueError('Root is not bracketed.')\n",
    "\n",
    "n=0                                 \n",
    "while (b-a)/2 > acc:                    \n",
    "    x = (a+b)/2                          \n",
    "    fx = f(x)                          \n",
    "    if fx == 0:\n",
    "         break                        \n",
    "    if fx*fa < 0:                       \n",
    "        b = x                           \n",
    "    else:\n",
    "        a = x                                            \n",
    "    print(f'Iteration number {n}, x={x}')\n",
    "    n += 1                          \n",
    "\n",
    "x=(a+b)/2                       \n",
    "print(f'Final iteration number {n}, x= {x}')"
   ]
  }
 ],
 "metadata": {
  "kernelspec": {
   "display_name": "Python 3 (ipykernel)",
   "language": "python",
   "name": "python3"
  },
  "language_info": {
   "codemirror_mode": {
    "name": "ipython",
    "version": 3
   },
   "file_extension": ".py",
   "mimetype": "text/x-python",
   "name": "python",
   "nbconvert_exporter": "python",
   "pygments_lexer": "ipython3",
   "version": "3.9.12"
  }
 },
 "nbformat": 4,
 "nbformat_minor": 4
}
