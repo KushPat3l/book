{
 "cells": [
  {
   "cell_type": "code",
   "execution_count": null,
   "id": "ebf6b119",
   "metadata": {},
   "outputs": [],
   "source": [
    "import numpy as np\n",
    "import matplotlib.pyplot as plt\n",
    "\n",
    "xlist = []\n",
    "ylist = []\n",
    "\n",
    "for q in range(2,200):\n",
    "    for p in range(1,q):\n",
    "        if np.gcd(p,q) == 1:\n",
    "            xlist.append(p/q)\n",
    "            ylist.append(1/q)\n",
    "\n",
    "plt.plot(xlist, ylist, 'or', ms=3)\n",
    "plt.xlabel('x')\n",
    "plt.ylabel('y')\n",
    "plt.xlim(0,1)\n",
    "plt.grid('on')\n",
    "plt.show()\n",
    "\n",
    "lim = 0.1\n",
    "num = sum(y > lim for y in ylist)\n",
    "print(f'Found {num} points above y={lim}')"
   ]
  }
 ],
 "metadata": {
  "kernelspec": {
   "display_name": "Python 3 (ipykernel)",
   "language": "python",
   "name": "python3"
  },
  "language_info": {
   "codemirror_mode": {
    "name": "ipython",
    "version": 3
   },
   "file_extension": ".py",
   "mimetype": "text/x-python",
   "name": "python",
   "nbconvert_exporter": "python",
   "pygments_lexer": "ipython3",
   "version": "3.9.17"
  }
 },
 "nbformat": 4,
 "nbformat_minor": 5
}
