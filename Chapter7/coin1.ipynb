{
 "cells": [
  {
   "cell_type": "code",
   "execution_count": null,
   "id": "0633ff92-0034-4b95-9759-ee5098a320d8",
   "metadata": {},
   "outputs": [],
   "source": [
    "import numpy as np\n",
    "import matplotlib.pyplot as plt\n",
    "import random \n",
    "%matplotlib \n",
    "\n",
    "exprmt = int(1e5)\n",
    "throws = 10\n",
    "Htally = []\n",
    "\n",
    "for i in range(exprmt):\n",
    "    heads= 0\n",
    "    for trial in range(throws):\n",
    "        roll = random.randint(0, 1)\n",
    "        if roll == 0: heads += 1\n",
    "    Htally.append(heads)\n",
    "\n",
    "bins = np.arange(throws+2)-0.5\n",
    "prob, b1, b2 = plt.hist(Htally, bins= bins, \n",
    "                        density = True)\n",
    "plt.xticks(range(11))\n",
    "plt.xlabel('No. of heads in 10 throws')\n",
    "plt.ylabel('Probability')\n",
    "plt.grid()\n",
    "plt.show()\n",
    "\n",
    "print(f'Pr(5 heads)= {prob[5]}')\n",
    "print(f'Pr(at least 5 heads)= {sum(prob[5:])}')"
   ]
  }
 ],
 "metadata": {
  "kernelspec": {
   "display_name": "Python 3 (ipykernel)",
   "language": "python",
   "name": "python3"
  },
  "language_info": {
   "codemirror_mode": {
    "name": "ipython",
    "version": 3
   },
   "file_extension": ".py",
   "mimetype": "text/x-python",
   "name": "python",
   "nbconvert_exporter": "python",
   "pygments_lexer": "ipython3",
   "version": "3.9.12"
  }
 },
 "nbformat": 4,
 "nbformat_minor": 5
}
