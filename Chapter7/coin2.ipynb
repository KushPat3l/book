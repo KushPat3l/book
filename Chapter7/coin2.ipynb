{
 "cells": [
  {
   "cell_type": "code",
   "execution_count": null,
   "id": "cae2af18-0608-47e5-bd06-dd528abb1780",
   "metadata": {},
   "outputs": [],
   "source": [
    "import numpy as np\n",
    "import matplotlib.pyplot as plt\n",
    "from scipy.stats import bernoulli\n",
    "%matplotlib \n",
    "\n",
    "dist = bernoulli(0.5)\n",
    "\n",
    "exprmt = int(1e5)\n",
    "throws = 10 \n",
    "HHfound, THfound = 0, 0\n",
    "PHH = []\n",
    "PTH = []\n",
    "\n",
    "for i in range(exprmt):\n",
    "    rolls = dist.rvs(throws)\n",
    "    seq = ''.join(str(r) for r in rolls)\n",
    "    posHH = seq.find('11')\n",
    "    posTH = seq.find('01')\n",
    "    PHH.append(posHH + 1)\n",
    "    PTH.append(posTH + 1)\n",
    "    if posHH !=-1:\n",
    "        HHfound += 1\n",
    "    if posTH !=-1:\n",
    "        THfound += 1\n",
    "\n",
    "HHprob = HHfound/exprmt\n",
    "THprob = THfound/exprmt\n",
    "\n",
    "print(f'Pr(HH seen)= {HHprob}')\n",
    "print(f'Pr(TH seen)= {THprob}')\n",
    "\n",
    "fig,(ax1, ax2) = plt.subplots(2,1)\n",
    "bins = np.arange(0, throws+1) - 0.5\n",
    "ax1.set_title('Distributions of HH (top) and' \n",
    "              ' TH (bottom) occurrences')\n",
    "HHtally, b1, b2 = ax1.hist(PHH, bins= bins, \n",
    "                           color = 'b')\n",
    "THtally, c1, c2 = ax2.hist(PTH, bins= bins, \n",
    "                           color = 'r')\n",
    "for X in [ax1,ax2]:\n",
    "    X.set_xticks(range(0,throws))\n",
    "    X.set_xlim(-0.5, throws-0.5)\n",
    "    X.set_ylabel('No. of simulations')\n",
    "    X.grid()\n",
    "ax2.set_xlabel('First-occurrence position')\n",
    "fig.show()"
   ]
  }
 ],
 "metadata": {
  "kernelspec": {
   "display_name": "Python 3 (ipykernel)",
   "language": "python",
   "name": "python3"
  },
  "language_info": {
   "codemirror_mode": {
    "name": "ipython",
    "version": 3
   },
   "file_extension": ".py",
   "mimetype": "text/x-python",
   "name": "python",
   "nbconvert_exporter": "python",
   "pygments_lexer": "ipython3",
   "version": "3.9.12"
  }
 },
 "nbformat": 4,
 "nbformat_minor": 5
}
