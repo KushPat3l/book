{
 "cells": [
  {
   "cell_type": "code",
   "execution_count": null,
   "id": "17ac6f39-f51d-4a82-8492-a63ee4777393",
   "metadata": {},
   "outputs": [],
   "source": [
    "import numpy as np\n",
    "import matplotlib.pyplot as plt\n",
    "from math import factorial\n",
    "%matplotlib\n",
    "\n",
    "sims = 500\n",
    "\n",
    "Ndots = 100\n",
    "grid = 10\n",
    "rng = np.random.default_rng()\n",
    "Tally= []\n",
    "\n",
    "for sim in range(sims):   \n",
    "    Count = np.zeros((grid,grid))\n",
    "    dotx = rng.uniform(0, grid, Ndots)\n",
    "    doty = rng.uniform(0, grid, Ndots)\n",
    "    \n",
    "    for x,y in zip(dotx,doty):\n",
    "        n, m = int(x), int(y)\n",
    "        Count[m,n] += 1\n",
    "    C = Count.flatten()\n",
    "    Tally = np.concatenate((Tally,C))\n",
    "    \n",
    "Max = max(Tally)\n",
    "xbins = np.arange(Max+2)\n",
    "bins = xbins-0.5        \n",
    "prob = plt.hist(Tally, bins=bins, \n",
    "               density=True, color='deeppink')\n",
    "\n",
    "mean = Ndots/(grid**2)\n",
    "Poisson =[mean**x*np.exp(-mean)/\\\n",
    "          factorial(int(x)) for x in xbins]\n",
    "\n",
    "plt.title(f'Dot count in a {grid}x{grid} grid' \n",
    "          f' with {Ndots} dots')\n",
    "plt.plot(xbins, Poisson, 'k')\n",
    "plt.xticks(xbins)\n",
    "plt.xlim([-0.5, Max+0.5])\n",
    "plt.grid('on')\n",
    "plt.show"
   ]
  }
 ],
 "metadata": {
  "kernelspec": {
   "display_name": "Python 3 (ipykernel)",
   "language": "python",
   "name": "python3"
  },
  "language_info": {
   "codemirror_mode": {
    "name": "ipython",
    "version": 3
   },
   "file_extension": ".py",
   "mimetype": "text/x-python",
   "name": "python",
   "nbconvert_exporter": "python",
   "pygments_lexer": "ipython3",
   "version": "3.9.17"
  }
 },
 "nbformat": 4,
 "nbformat_minor": 5
}
