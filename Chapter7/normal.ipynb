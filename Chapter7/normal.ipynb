{
 "cells": [
  {
   "cell_type": "code",
   "execution_count": null,
   "id": "8a32857f-dc51-4045-8768-cbcff2ae49ff",
   "metadata": {},
   "outputs": [],
   "source": [
    "import numpy as np\n",
    "import matplotlib.pyplot as plt\n",
    "from scipy.stats import bernoulli\n",
    "%matplotlib\n",
    "\n",
    "Nballs = 25000\n",
    "Nrows = 50 \n",
    "\n",
    "Ber = bernoulli(0.5)\n",
    "dx = 1\n",
    "X = []\n",
    "\n",
    "for i in range(Nballs):\n",
    "    D = Ber.rvs(Nrows)\n",
    "    rights = sum(D)\n",
    "    x = (2*rights - Nrows)*dx\n",
    "    X.append(x)\n",
    "    \n",
    "Max = max(X) + 4*dx\n",
    "Min = min(X) - 4*dx\n",
    "\n",
    "xN = np.linspace(Min, Max,100)\n",
    "sig2 = Nrows*dx**2\n",
    "yN = np.exp(-0.5*xN**2/sig2)/\\\n",
    "     np.sqrt(2*np.pi*sig2)\n",
    "\n",
    "fig, ax = plt.subplots(1,1)\n",
    "bins = np.arange(Min, Max, 2*dx)-dx\n",
    "ax.hist(X, bins, density=True, color='teal') \n",
    "ax.set_xlabel('x')\n",
    "ax.set_ylabel('Probability distribution')\n",
    "ax.set_title(\n",
    "    f'{Nballs} balls, {Nrows} rows of pegs')\n",
    "ax.set_xlim([-round(Max),round(Max)])\n",
    "ax.plot(xN, yN, 'r', linewidth=2)\n",
    "plt.grid()\n",
    "plt.show()"
   ]
  }
 ],
 "metadata": {
  "kernelspec": {
   "display_name": "Python 3 (ipykernel)",
   "language": "python",
   "name": "python3"
  },
  "language_info": {
   "codemirror_mode": {
    "name": "ipython",
    "version": 3
   },
   "file_extension": ".py",
   "mimetype": "text/x-python",
   "name": "python",
   "nbconvert_exporter": "python",
   "pygments_lexer": "ipython3",
   "version": "3.9.12"
  }
 },
 "nbformat": 4,
 "nbformat_minor": 5
}
