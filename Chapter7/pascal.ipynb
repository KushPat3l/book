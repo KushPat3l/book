{
 "cells": [
  {
   "cell_type": "code",
   "execution_count": null,
   "id": "de66ca3d-b2ce-4608-a097-489505aa500c",
   "metadata": {},
   "outputs": [],
   "source": [
    "n = 30\n",
    "mod = 2\n",
    "\n",
    "def binom(n,k):\n",
    "    a = 1\n",
    "    for i in range(k):\n",
    "        a = a*(n-i)//(i+1)        \n",
    "    return a\n",
    "\n",
    "def symb(u):\n",
    "    if u==0:ßß\n",
    "        return \"\\u25A1\"\n",
    "    else:\n",
    "        return \"\\u25A0\"\n",
    "\n",
    "for i in range(n+1):\n",
    "    for j in range(0, n-i+1):\n",
    "        print(' ', end='') \n",
    "    for j in range(i+1):\n",
    "        u = binom(i,j) % mod\n",
    "        s = symb(u)\n",
    "        print(' ', s, sep='', end='') \n",
    "    print('')"
   ]
  }
 ],
 "metadata": {
  "kernelspec": {
   "display_name": "Python 3 (ipykernel)",
   "language": "python",
   "name": "python3"
  },
  "language_info": {
   "codemirror_mode": {
    "name": "ipython",
    "version": 3
   },
   "file_extension": ".py",
   "mimetype": "text/x-python",
   "name": "python",
   "nbconvert_exporter": "python",
   "pygments_lexer": "ipython3",
   "version": "3.9.12"
  }
 },
 "nbformat": 4,
 "nbformat_minor": 5
}
