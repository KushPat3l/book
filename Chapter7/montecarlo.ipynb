{
 "cells": [
  {
   "cell_type": "code",
   "execution_count": null,
   "id": "dff4a578-3ab0-404d-954f-fe9d73390318",
   "metadata": {},
   "outputs": [],
   "source": [
    "import numpy as np\n",
    "import matplotlib.pyplot as plt\n",
    "from numpy.polynomial import Polynomial as P\n",
    "from sympy import S\n",
    "%matplotlib \n",
    "\n",
    "f = lambda x: np.arctan(x)/x\n",
    "\n",
    "Nlist = np.round(np.logspace(1,7,200))\n",
    "\n",
    "rng = np.random.default_rng()\n",
    "Err = []\n",
    "G = S.Catalan\n",
    "\n",
    "for N in Nlist:\n",
    "    xi = rng.random(int(N))\n",
    "    est = np.mean(f(xi))\n",
    "    Err.append(float(abs(est/G -1)))\n",
    "\n",
    "logx = np.log10(Nlist)\n",
    "logy = np.log10(Err)\n",
    "poly = P.fit(logx, logy, 1).convert()\n",
    "yfit = 10**(poly(logx))\n",
    "\n",
    "plt.loglog(Nlist, Err, 'b.', \n",
    "           Nlist, yfit, 'r')\n",
    "plt.xlim(10, 1e7)\n",
    "plt.xlabel(r'$N$ (number of points)')\n",
    "plt.ylabel('|Fractional error|')\n",
    "plt.title(f'Gradient = {poly.coef[1]:.3}')\n",
    "plt.grid()\n",
    "plt.show()"
   ]
  }
 ],
 "metadata": {
  "kernelspec": {
   "display_name": "Python 3 (ipykernel)",
   "language": "python",
   "name": "python3"
  },
  "language_info": {
   "codemirror_mode": {
    "name": "ipython",
    "version": 3
   },
   "file_extension": ".py",
   "mimetype": "text/x-python",
   "name": "python",
   "nbconvert_exporter": "python",
   "pygments_lexer": "ipython3",
   "version": "3.9.12"
  }
 },
 "nbformat": 4,
 "nbformat_minor": 5
}
