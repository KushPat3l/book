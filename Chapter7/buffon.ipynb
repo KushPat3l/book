{
 "cells": [
  {
   "cell_type": "code",
   "execution_count": 2,
   "id": "cf442dcd-a5a5-4920-b0b8-b346f789a9e7",
   "metadata": {},
   "outputs": [
    {
     "name": "stdout",
     "output_type": "stream",
     "text": [
      "Using matplotlib backend: MacOSX\n"
     ]
    }
   ],
   "source": [
    "import numpy as np\n",
    "import matplotlib.pyplot as plt\n",
    "%matplotlib \n",
    "\n",
    "Nmax = int(1e6)\n",
    "d, ell = 0.1, 0.05\n",
    "\n",
    "Nlist = range(1,Nmax+1)\n",
    "rng = np.random.default_rng()\n",
    "Prob =[]\n",
    "count = 0\n",
    "\n",
    "for N in Nlist:\n",
    "    yhead = 10*d*rng.random()\n",
    "    theta = 2*np.pi*rng.random()\n",
    "    ytail = yhead + ell*np.sin(theta)\n",
    "\n",
    "    if yhead//d != ytail//d:\n",
    "        count += 1\n",
    "        \n",
    "    prob = count/N\n",
    "    Prob.append(prob)\n",
    "\n",
    "plt.semilogx(Nlist[100:], Prob[100:], 'b')\n",
    "plt.xlabel('Number of needles')\n",
    "plt.ylabel('Probability of intersection')\n",
    "plt.xlim(1e2, Nmax)\n",
    "plt.title(f'Final probability = {prob:5}')\n",
    "plt.grid()\n",
    "plt.show()"
   ]
  }
 ],
 "metadata": {
  "kernelspec": {
   "display_name": "Python 3 (ipykernel)",
   "language": "python",
   "name": "python3"
  },
  "language_info": {
   "codemirror_mode": {
    "name": "ipython",
    "version": 3
   },
   "file_extension": ".py",
   "mimetype": "text/x-python",
   "name": "python",
   "nbconvert_exporter": "python",
   "pygments_lexer": "ipython3",
   "version": "3.9.12"
  }
 },
 "nbformat": 4,
 "nbformat_minor": 5
}
