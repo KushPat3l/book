{
 "cells": [
  {
   "cell_type": "code",
   "execution_count": 8,
   "id": "5cda0c54",
   "metadata": {},
   "outputs": [
    {
     "name": "stderr",
     "output_type": "stream",
     "text": [
      "<ipython-input-8-8dd6380500ab>:40: MatplotlibDeprecationWarning: Adding an axes using the same arguments as a previous axes currently reuses the earlier instance.  In a future version, a new instance will always be created and returned.  Meanwhile, this warning can be suppressed, and the future behavior ensured, by passing a unique label to each axes instance.\n",
      "  fig.add_subplot(111).plot(xarray, yarray)\n",
      "<ipython-input-8-8dd6380500ab>:44: MatplotlibDeprecationWarning: Adding an axes using the same arguments as a previous axes currently reuses the earlier instance.  In a future version, a new instance will always be created and returned.  Meanwhile, this warning can be suppressed, and the future behavior ensured, by passing a unique label to each axes instance.\n",
      "  fig.add_subplot(111).axhline(y = Y, color= 'k',\n"
     ]
    }
   ],
   "source": [
    "import numpy as np\n",
    "from tkinter import *\n",
    "\n",
    "from matplotlib.backends.backend_tkagg import (\n",
    "    FigureCanvasTkAgg, NavigationToolbar2Tk)\n",
    "from matplotlib.figure import Figure\n",
    "\n",
    "\n",
    "root = Tk()\n",
    "\n",
    "# Defining the sinc function\n",
    "def h(x):\n",
    "    if x==0:\n",
    "        return 1\n",
    "    else:\n",
    "        return np.sin(x)/x\n",
    "\n",
    "xarray = np.linspace(-2,2)\n",
    "yarray=[]\n",
    "for x in xarray:\n",
    "    yarray.append(h(x))\n",
    "\n",
    "# Choose value of epsilon and display on GUI\n",
    "eps =0.1\n",
    "l = Label(text = \"epsilon = %.2f\" %eps)\n",
    "l.pack()\n",
    "\n",
    "x0 = 0\n",
    "y0 = f(x0)\n",
    "y0p = y0+eps\n",
    "y0m = y0-eps\n",
    "# Horizontal lines to be plotted\n",
    "horizontal = [y0, y0p, y0m]\n",
    "\n",
    "fig = Figure(figsize=(5, 4), dpi=100)\n",
    "\n",
    "fig.add_subplot(111)\n",
    "\n",
    "#Plot the function\n",
    "fig.add_subplot(111).plot(xarray, yarray)\n",
    "\n",
    "#Plot the horizontal dotted lines\n",
    "for Y in horizontal:\n",
    "    fig.add_subplot(111).axhline(y = Y, color= 'k', \n",
    "    linestyle = ':')   \n",
    "\n",
    "canvas = FigureCanvasTkAgg(fig, master=root)\n",
    "canvas.draw()\n",
    "canvas.get_tk_widget().pack(side=TOP, fill=BOTH, expand=1)\n",
    "\n",
    "toolbar = NavigationToolbar2Tk(canvas, root)\n",
    "toolbar.update()\n",
    "canvas.get_tk_widget().pack(side=TOP, fill=BOTH, expand=1)\n",
    "\n",
    "mainloop()\n"
   ]
  },
  {
   "cell_type": "code",
   "execution_count": null,
   "id": "2828a907",
   "metadata": {},
   "outputs": [],
   "source": []
  },
  {
   "cell_type": "code",
   "execution_count": null,
   "id": "88cacb12",
   "metadata": {},
   "outputs": [],
   "source": []
  },
  {
   "cell_type": "code",
   "execution_count": null,
   "id": "f41da0f2",
   "metadata": {},
   "outputs": [],
   "source": []
  }
 ],
 "metadata": {
  "kernelspec": {
   "display_name": "Python 3",
   "language": "python",
   "name": "python3"
  },
  "language_info": {
   "codemirror_mode": {
    "name": "ipython",
    "version": 3
   },
   "file_extension": ".py",
   "mimetype": "text/x-python",
   "name": "python",
   "nbconvert_exporter": "python",
   "pygments_lexer": "ipython3",
   "version": "3.8.8"
  }
 },
 "nbformat": 4,
 "nbformat_minor": 5
}
