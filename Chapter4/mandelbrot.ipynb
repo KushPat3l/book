{
 "cells": [
  {
   "cell_type": "code",
   "execution_count": null,
   "metadata": {},
   "outputs": [],
   "source": [
    "import numpy as np\n",
    "import matplotlib.pyplot as plt\n",
    "%matplotlib\n",
    "\n",
    "eps = 3e-3\n",
    "xmin, xmax = -2, 0.5\n",
    "ymax = 1.2\n",
    "X = np.arange(xmin, xmax,eps)\n",
    "Y = np.arange(0, ymax, eps)\n",
    "kmax = 100\n",
    "nx, ny = len(X), len(Y)\n",
    "\n",
    "kmatrix = np.zeros((ny, nx)) \n",
    "\n",
    "modsq= lambda z: z*np.conj(z)\n",
    "\n",
    "for row in np.arange(ny):\n",
    "    for col in np.arange(nx):\n",
    "        c = X[col] + Y[row]*1j\n",
    "        k = 0\n",
    "        z = 0\n",
    "        while (modsq(z)<=4)and(k<=kmax):\n",
    "            z = z**2 + c\n",
    "            k=k+1\n",
    "        kmatrix[row,col]=k-1\n",
    "\n",
    "kflip = np.flipud(kmatrix)\n",
    "\n",
    "K = np.concatenate((kflip, kmatrix[1:]))\n",
    "\n",
    "fig, ax= plt.subplots()\n",
    "ax.imshow(K, cmap=\"magma_r\", \n",
    "          origin='lower',\n",
    "          extent=[xmin,xmax,-ymax,ymax])\n",
    "ax.set_xlabel(\"Re c\")\n",
    "ax.set_ylabel(\"Im c\")\n",
    "plt.show()"
   ]
  }
 ],
 "metadata": {
  "kernelspec": {
   "display_name": "Python 3 (ipykernel)",
   "language": "python",
   "name": "python3"
  },
  "language_info": {
   "codemirror_mode": {
    "name": "ipython",
    "version": 3
   },
   "file_extension": ".py",
   "mimetype": "text/x-python",
   "name": "python",
   "nbconvert_exporter": "python",
   "pygments_lexer": "ipython3",
   "version": "3.9.12"
  }
 },
 "nbformat": 4,
 "nbformat_minor": 4
}
