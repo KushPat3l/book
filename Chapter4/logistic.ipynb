{
 "cells": [
  {
   "cell_type": "code",
   "execution_count": null,
   "metadata": {},
   "outputs": [],
   "source": [
    "import numpy as np\n",
    "import matplotlib.pyplot as plt\n",
    "%matplotlib\n",
    "\n",
    "R = np.linspace(0, 4, 4000)\n",
    "rng = np.random.default_rng()\n",
    "xlist = []\n",
    "rlist = []\n",
    "\n",
    "def f(x, r):\n",
    "    return r*x*(1-x)\n",
    "\n",
    "for r in R:\n",
    "    x = rng.random()\n",
    "    for j in range(500):\n",
    "        x = f(x, r)\n",
    "    for k in range(50):\n",
    "        x = f(x, r)\n",
    "        xlist.append(x)\n",
    "        rlist.append(r)\n",
    "        \n",
    "plt.plot(rlist, xlist, 'b.', markersize=0.05) \n",
    "plt.xlabel('r')\n",
    "plt.ylabel('x')\n",
    "plt.xlim([0,4])\n",
    "plt.ylim([0,1])\n",
    "plt.grid()\n",
    "plt.show()"
   ]
  }
 ],
 "metadata": {
  "kernelspec": {
   "display_name": "Python 3 (ipykernel)",
   "language": "python",
   "name": "python3"
  },
  "language_info": {
   "codemirror_mode": {
    "name": "ipython",
    "version": 3
   },
   "file_extension": ".py",
   "mimetype": "text/x-python",
   "name": "python",
   "nbconvert_exporter": "python",
   "pygments_lexer": "ipython3",
   "version": "3.9.12"
  }
 },
 "nbformat": 4,
 "nbformat_minor": 4
}
