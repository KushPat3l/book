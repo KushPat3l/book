{
 "cells": [
  {
   "cell_type": "code",
   "execution_count": null,
   "id": "4af6dc64",
   "metadata": {},
   "outputs": [],
   "source": [
    "import numpy as np\n",
    "import matplotlib.pyplot as plt\n",
    "from scipy.integrate import solve_ivp\n",
    "from matplotlib.animation import FuncAnimation\n",
    "%matplotlib\n",
    "\n",
    "N = 40\n",
    "x = np.linspace(0,1,N+1)\n",
    "dx = x[1]-x[0]\n",
    "\n",
    "def derivs(t, U):\n",
    "    dUdt = np.zeros_like(U)\n",
    "    dUdt[1:-1]=(U[2:]-2*U[1:-1]+U[:-2])/dx**2\n",
    "    return dUdt\n",
    "\n",
    "h = 5e-4\n",
    "Tmax = 0.5\n",
    "T = np.arange(0, Tmax+h, h)\n",
    "Uinit = np.sin(np.pi*5*x/2)\n",
    "\n",
    "sol = solve_ivp(derivs, t_span=[0, Tmax],\n",
    "                y0=Uinit, t_eval=T)\n",
    "\n",
    "U = np.zeros((len(T),len(x)))\n",
    "\n",
    "for i in np.arange(1,N):\n",
    "        U[:,i] = sol.y[i]\n",
    "\n",
    "U[:,-1] = np.ones(len(T))\n",
    "\n",
    "fig = plt.figure()\n",
    "ax = fig.add_subplot(111, xlim=(0, 1),\n",
    "                          ylim=(-1, 1))\n",
    "ax.grid('on')\n",
    "ax.set_xlabel('x') \n",
    "ax.set_ylabel('u(x,t)')\n",
    "line, = ax.plot([], [], 'r', lw=2) \n",
    "text = 't = %.3fs'\n",
    "time = ax.text(0.03, 0.8, '')\n",
    "\n",
    "def animate_frame(i):\n",
    "    line.set_data(x, U[i,:])\n",
    "    time.set_text(text % (i*h))\n",
    "    return line, time\n",
    "\n",
    "ani = FuncAnimation(fig, animate_frame,\n",
    "       frames = len(T),\n",
    "       interval = 20)\n",
    "\n",
    "plt.show()"
   ]
  }
 ],
 "metadata": {
  "kernelspec": {
   "display_name": "Python 3 (ipykernel)",
   "language": "python",
   "name": "python3"
  },
  "language_info": {
   "codemirror_mode": {
    "name": "ipython",
    "version": 3
   },
   "file_extension": ".py",
   "mimetype": "text/x-python",
   "name": "python",
   "nbconvert_exporter": "python",
   "pygments_lexer": "ipython3",
   "version": "3.9.17"
  }
 },
 "nbformat": 4,
 "nbformat_minor": 5
}
