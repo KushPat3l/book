{
 "cells": [
  {
   "cell_type": "code",
   "execution_count": null,
   "metadata": {},
   "outputs": [],
   "source": [
    "import numpy as np\n",
    "import matplotlib.pyplot as plt\n",
    "from scipy.integrate import solve_ivp\n",
    "from matplotlib.animation import FuncAnimation\n",
    "%matplotlib\n",
    "\n",
    "plt.rcParams.update({'font.size': 22})\n",
    "\n",
    "g = 9.8  \n",
    "l = 1.0  \n",
    "\n",
    "def derivs(t, Y):\n",
    "    dYdt = np.zeros_like(Y) \n",
    "    dYdt[0] = Y[1]\n",
    "    dYdt[1] = -g/l*np.sin(Y[0])\n",
    "    return dYdt\n",
    "\n",
    "h = 0.025\n",
    "Tmax = 10\n",
    "T = np.arange(0, Tmax+h, h)\n",
    "\n",
    "Yinit = [np.pi/4, 0]\n",
    "\n",
    "sol = solve_ivp(derivs, t_span = [0, Tmax], \n",
    "                y0= Yinit, t_eval=T)\n",
    "\n",
    "theta = sol.y[0]\n",
    "xbob = l*np.sin(theta)\n",
    "ybob = -l*np.cos(theta)\n",
    "\n",
    "fig = plt.figure()\n",
    "ax = fig.add_subplot(111, xlim=(-1.2, 1.2), \n",
    "                          ylim=(-1.2, 1.2))\n",
    "ax.grid()\n",
    "line, = ax.plot([], [], 'ro-', lw=3)\n",
    "text = 'time = %.1fs'\n",
    "time = ax.text(-1.1, 0.9, '')\n",
    " \n",
    "def animate_frame(i):\n",
    "    x_i = [0, xbob[i]]\n",
    "    y_i = [0, ybob[i]]\n",
    "    line.set_data(x_i, y_i)\n",
    "    time.set_text(text % (i*h))\n",
    "    return line, time\n",
    "\n",
    "ani = FuncAnimation(fig, animate_frame, \n",
    "       frames = len(T), \n",
    "       interval = 10)\n",
    "\n",
    "plt.show()"
   ]
  }
 ],
 "metadata": {
  "kernelspec": {
   "display_name": "Python 3 (ipykernel)",
   "language": "python",
   "name": "python3"
  },
  "language_info": {
   "codemirror_mode": {
    "name": "ipython",
    "version": 3
   },
   "file_extension": ".py",
   "mimetype": "text/x-python",
   "name": "python",
   "nbconvert_exporter": "python",
   "pygments_lexer": "ipython3",
   "version": "3.9.12"
  }
 },
 "nbformat": 4,
 "nbformat_minor": 4
}
