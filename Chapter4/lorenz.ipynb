{
 "cells": [
  {
   "cell_type": "code",
   "execution_count": null,
   "metadata": {},
   "outputs": [],
   "source": [
    "import numpy as np\n",
    "import matplotlib.pyplot as plt\n",
    "from scipy.integrate import solve_ivp\n",
    "from matplotlib.animation import FuncAnimation\n",
    "%matplotlib\n",
    "\n",
    "sigma = 10\n",
    "b = 8/3 \n",
    "r = 28\n",
    " \n",
    "def derivs(t, X):\n",
    "    x,y,z = X\n",
    "    dXdt = np.zeros_like(X)\n",
    "    dXdt[0] = sigma *(y - x)\n",
    "    dXdt[1] = x*(r-z) - y\n",
    "    dXdt[2] = x*y - b*z\n",
    "    return dXdt\n",
    " \n",
    "h = 0.01 \n",
    "Tmax = 60\n",
    "T = np.arange(0, Tmax+h, h)\n",
    "Xinit = [1, 1, 1] \n",
    "\n",
    "sol = solve_ivp(derivs, t_span=[0, Tmax], \n",
    "                y0=Xinit, t_eval=T)\n",
    "\n",
    "x, y, z = sol.y[0], sol.y[1], sol.y[2]\n",
    "data = np.array([x, y, z]) \n",
    "\n",
    "fig = plt.figure()\n",
    "ax = fig.add_subplot(111, projection='3d',\n",
    "    xlim=(-20,20), ylim=(-30,30), zlim=(0,50))\n",
    "ax.set_xlabel('x')\n",
    "ax.set_ylabel('y')\n",
    "ax.set_zlabel('z')\n",
    "\n",
    "traj,= ax.plot([],[],[],'b', lw=0.6)\n",
    "pnt, = ax.plot([],[],[],'ro', markersize=3)\n",
    "text = 't = %.1f'\n",
    "time = ax.text(15,30,60, '')\n",
    "    \n",
    "def animate_frame(i, data, traj):\n",
    "    traj.set_data_3d(data[0:3, :i])\n",
    "    pnt.set_data_3d(data[0:3, i])\n",
    "    time.set_text(text % (i*h))\n",
    "    return traj, pnt, time\n",
    "\n",
    "ani = FuncAnimation(fig, animate_frame,      \n",
    "      fargs=(data, traj),\n",
    "      frames= len(T), \n",
    "      interval = 1)\n",
    "\n",
    "plt.show()"
   ]
  }
 ],
 "metadata": {
  "kernelspec": {
   "display_name": "Python 3 (ipykernel)",
   "language": "python",
   "name": "python3"
  },
  "language_info": {
   "codemirror_mode": {
    "name": "ipython",
    "version": 3
   },
   "file_extension": ".py",
   "mimetype": "text/x-python",
   "name": "python",
   "nbconvert_exporter": "python",
   "pygments_lexer": "ipython3",
   "version": "3.9.12"
  }
 },
 "nbformat": 4,
 "nbformat_minor": 4
}
