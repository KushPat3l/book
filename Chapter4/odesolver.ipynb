{
 "cells": [
  {
   "cell_type": "code",
   "execution_count": null,
   "id": "5722c629",
   "metadata": {},
   "outputs": [],
   "source": [
    "import numpy as np\n",
    "import matplotlib.pyplot as plt\n",
    "\n",
    "def odeFE(f, y0, h, a , b):\n",
    "    N = int(round((b-a)/h))\n",
    "    y = np.zeros(N+1)\n",
    "    t = np.linspace(a, b, N+1)\n",
    "    y[0] = y0\n",
    "    for i in np.arange(0,N):\n",
    "        y[i+1]=y[i]+ h*f(y[i],t[i])\n",
    "    return y, t\n",
    "\n",
    "def f(y, t):\n",
    "    return -y\n",
    "\n",
    "h = 0.001\n",
    "y0 = 2\n",
    "a, b = 0, 3\n",
    "y, t = odeFE(f, y0, h, a, b)\n",
    "T = np.linspace(a, b)\n",
    "\n",
    "plt.figure(figsize=(3, 5))\n",
    "plt.plot(t, y, 'k', \n",
    "         T, 2*np.exp(-T), '--')\n",
    "plt.xlim([0,3])\n",
    "plt.legend(['Numerical', 'Exact'])\n",
    "plt.title('Forward-Euler, h=0.001')\n",
    "plt.grid('on')\n",
    "plt.show()"
   ]
  }
 ],
 "metadata": {
  "kernelspec": {
   "display_name": "Python 3 (ipykernel)",
   "language": "python",
   "name": "python3"
  },
  "language_info": {
   "codemirror_mode": {
    "name": "ipython",
    "version": 3
   },
   "file_extension": ".py",
   "mimetype": "text/x-python",
   "name": "python",
   "nbconvert_exporter": "python",
   "pygments_lexer": "ipython3",
   "version": "3.9.12"
  }
 },
 "nbformat": 4,
 "nbformat_minor": 5
}
