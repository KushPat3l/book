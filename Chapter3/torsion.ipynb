{
 "cells": [
  {
   "cell_type": "code",
   "execution_count": null,
   "metadata": {},
   "outputs": [],
   "source": [
    "import numpy as np\n",
    "import matplotlib.pyplot as plt\n",
    "from matplotlib.widgets import Slider\n",
    "%matplotlib \n",
    "\n",
    "rx = lambda t: np.sin(t)\n",
    "ry = lambda t: np.cos(t)\n",
    "rz = lambda t: t**2/20\n",
    "tau = lambda t: 10*t/(t**2+101)\n",
    "\n",
    "t = 0\n",
    "\n",
    "fig = plt.figure(figsize=(10,6))\n",
    "\n",
    "ax = fig.add_subplot(121, projection='3d')\n",
    "r, = ax.plot(rx(t), ry(t), rz(t),\n",
    "                    'b', markersize=3) \n",
    "Pnt1, = ax.plot(rx(t), ry(t), rz(t),\n",
    "                    'ro', markersize=6) \n",
    "ax.set_title('Parametric curve')\n",
    "ax.set_xlim(-1, 1)\n",
    "ax.set_ylim(-1, 1)\n",
    "ax.set_zlim(0, 20)\n",
    "\n",
    "ax = fig.add_subplot(122)\n",
    "ax.set_aspect(8)\n",
    "ax.set_title('Torsion')\n",
    "ax.set_xlim(0,6*np.pi)\n",
    "ax.set_xlabel('t')\n",
    "ax.set_ylim(0,0.6)\n",
    "ax.grid('on')\n",
    "\n",
    "torsion, = ax.plot(t, tau(t), \n",
    "                    'r', markersize=3) \n",
    "Pnt2, = ax.plot(t, tau(t), \n",
    "                    'bo', markersize=6) \n",
    "\n",
    "axt = plt.axes([0.2, 0.1, 0.5, 0.02])\n",
    "t_slide = Slider(axt, 't', \n",
    "             0, 6*np.pi, valstep=0.001, \n",
    "             valinit=t)\n",
    "\n",
    "def update(val):\n",
    "    t = t_slide.val\n",
    "    T = np.linspace(0,t,200)\n",
    "    r.set_data_3d(rx(T),ry(T),rz(T))\n",
    "    Pnt1.set_data_3d(rx(t),ry(t),rz(t))\n",
    "    torsion.set_data(T, tau(T))\n",
    "    Pnt2.set_data(t, tau(t))\n",
    "    fig.canvas.draw_idle()\n",
    "\n",
    "t_slide.on_changed(update)\n",
    "\n",
    "plt.show()"
   ]
  }
 ],
 "metadata": {
  "kernelspec": {
   "display_name": "Python 3 (ipykernel)",
   "language": "python",
   "name": "python3"
  },
  "language_info": {
   "codemirror_mode": {
    "name": "ipython",
    "version": 3
   },
   "file_extension": ".py",
   "mimetype": "text/x-python",
   "name": "python",
   "nbconvert_exporter": "python",
   "pygments_lexer": "ipython3",
   "version": "3.9.12"
  }
 },
 "nbformat": 4,
 "nbformat_minor": 4
}
