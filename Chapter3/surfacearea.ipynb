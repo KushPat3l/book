{
 "cells": [
  {
   "cell_type": "code",
   "execution_count": 1,
   "metadata": {},
   "outputs": [
    {
     "data": {
      "image/png": "[encoded data removed]",
      "text/plain": [
       "<Figure size 432x288 with 1 Axes>"
      ]
     },
     "metadata": {
      "needs_background": "light"
     },
     "output_type": "display_data"
    }
   ],
   "source": [
    "import numpy as np\n",
    "import matplotlib.pyplot as plt\n",
    "from scipy.integrate import dblquad\n",
    "\n",
    "def integrand(v,u):\n",
    "    return np.sqrt(4-3*(1-u**2)*\\\n",
    "                   np.sin(v)**2)\n",
    "\n",
    "Alist = [0]\n",
    "hlist = [0]\n",
    "A=0\n",
    "h=0\n",
    "dh = 1e-2\n",
    "\n",
    "while (h<1):\n",
    "    dA = dblquad(integrand, h, h+dh, \n",
    "        lambda v: 0, lambda v: np.pi/2)\n",
    "    A += 4*dA[0]\n",
    "    h += dh\n",
    "    Alist.append(A)\n",
    "    hlist.append(h)\n",
    "    \n",
    "plt.plot(hlist, Alist, 'r')\n",
    "plt.plot([0,1],[0, Alist[-1]], ':b')\n",
    "plt.xlim(0,1)\n",
    "plt.xlabel('h')\n",
    "plt.xticks(np.arange(0,1.1,0.1))\n",
    "plt.ylim(0,11)\n",
    "plt.ylabel('Surface area')\n",
    "plt.yticks(np.arange(0,11.1,1))\n",
    "plt.grid('on')\n",
    "plt.show()"
   ]
  },
  {
   "cell_type": "code",
   "execution_count": 3,
   "metadata": {},
   "outputs": [
    {
     "data": {
      "text/plain": [
       "10.739217663941874"
      ]
     },
     "execution_count": 3,
     "metadata": {},
     "output_type": "execute_result"
    }
   ],
   "source": [
    "Alist[-1]"
   ]
  },
  {
   "cell_type": "code",
   "execution_count": 5,
   "metadata": {},
   "outputs": [],
   "source": [
    "test=dblquad(integrand, 0, 1 ,\n",
    "              lambda v: 0, lambda v: 2*np.pi)"
   ]
  },
  {
   "cell_type": "code",
   "execution_count": 6,
   "metadata": {},
   "outputs": [
    {
     "data": {
      "text/plain": [
       "(10.739217663941867, 1.3008147831925463e-07)"
      ]
     },
     "execution_count": 6,
     "metadata": {},
     "output_type": "execute_result"
    }
   ],
   "source": [
    "test"
   ]
  },
  {
   "cell_type": "code",
   "execution_count": 7,
   "metadata": {},
   "outputs": [
    {
     "data": {
      "text/plain": [
       "10.732822083374227"
      ]
     },
     "execution_count": 7,
     "metadata": {},
     "output_type": "execute_result"
    }
   ],
   "source": [
    "p=1.6075\n",
    "pp=1/1.6075\n",
    "App = 2*np.pi*((1+2*2**p)/3)**pp\n",
    "App"
   ]
  },
  {
   "cell_type": "code",
   "execution_count": 8,
   "metadata": {},
   "outputs": [],
   "source": [
    "Err=(test[0]-App)/test[0]"
   ]
  },
  {
   "cell_type": "code",
   "execution_count": 9,
   "metadata": {},
   "outputs": [
    {
     "data": {
      "text/plain": [
       "0.05955350536486053"
      ]
     },
     "execution_count": 9,
     "metadata": {},
     "output_type": "execute_result"
    }
   ],
   "source": [
    "Err*100"
   ]
  },
  {
   "cell_type": "code",
   "execution_count": null,
   "metadata": {},
   "outputs": [],
   "source": []
  }
 ],
 "metadata": {
  "kernelspec": {
   "display_name": "Python 3",
   "language": "python",
   "name": "python3"
  },
  "language_info": {
   "codemirror_mode": {
    "name": "ipython",
    "version": 3
   },
   "file_extension": ".py",
   "mimetype": "text/x-python",
   "name": "python",
   "nbconvert_exporter": "python",
   "pygments_lexer": "ipython3",
   "version": "3.8.5"
  }
 },
 "nbformat": 4,
 "nbformat_minor": 4
}
