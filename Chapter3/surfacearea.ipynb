{
 "cells": [
  {
   "cell_type": "code",
   "execution_count": null,
   "metadata": {},
   "outputs": [],
   "source": [
    "import numpy as np\n",
    "import matplotlib.pyplot as plt\n",
    "from scipy.integrate import dblquad\n",
    "\n",
    "def integrand(u,v):\n",
    "    return np.sqrt(4-3*(1-u**2)*np.sin(v)**2)\n",
    "\n",
    "Alist = [0]\n",
    "hlist = [0]\n",
    "A, h = 0, 0\n",
    "dh = 1e-2\n",
    "\n",
    "while (h<1):\n",
    "    dA = dblquad(integrand, \n",
    "         0, np.pi/2, \n",
    "         h, h+dh)\n",
    "    A += 4*dA[0]\n",
    "    h += dh\n",
    "    Alist.append(A)\n",
    "    hlist.append(h)\n",
    "\n",
    "Area = Alist[-1]\n",
    "\n",
    "plt.plot(hlist, Alist, 'r')\n",
    "plt.plot([0,1],[0, Area], ':b')\n",
    "plt.xlim(0,1)\n",
    "plt.xlabel('Height $h$')\n",
    "plt.xticks(np.arange(0,1.1,0.1))\n",
    "plt.ylim(0,11)\n",
    "plt.ylabel('Surface area of ellipsoidal strip')\n",
    "plt.yticks(np.arange(0,11.1,1))\n",
    "plt.legend(['Surface area', f'{Area:.4f}$h$'])\n",
    "plt.grid('on')\n",
    "plt.show()"
   ]
  }
 ],
 "metadata": {
  "kernelspec": {
   "display_name": "Python 3 (ipykernel)",
   "language": "python",
   "name": "python3"
  },
  "language_info": {
   "codemirror_mode": {
    "name": "ipython",
    "version": 3
   },
   "file_extension": ".py",
   "mimetype": "text/x-python",
   "name": "python",
   "nbconvert_exporter": "python",
   "pygments_lexer": "ipython3",
   "version": "3.9.17"
  }
 },
 "nbformat": 4,
 "nbformat_minor": 4
}
