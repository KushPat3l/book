{
 "cells": [
  {
   "cell_type": "code",
   "execution_count": null,
   "metadata": {
    "scrolled": true
   },
   "outputs": [],
   "source": [
    "import numpy as np\n",
    "import matplotlib.pyplot as plt\n",
    "import scipy.integrate as integrate\n",
    "%matplotlib\n",
    "\n",
    "b_lin = np.linspace(0,1,100)\n",
    "b_log = np.logspace(-3,0,100)\n",
    "perim = np.zeros(100)\n",
    "error = np.zeros(100)\n",
    "\n",
    "def integrand(x,b):\n",
    "    return np.sqrt(1-(1-b**2)*np.sin(x)**2)\n",
    "\n",
    "def Ramanujan(b):\n",
    "    return np.pi*(3*(1+b) - np.sqrt((1+3*b)*(3+b))) \n",
    "\n",
    "for i, b in enumerate(b_lin):\n",
    "    f = lambda x: integrand(x,b)\n",
    "    s = integrate.quad(f, 0, np.pi/2)\n",
    "    perim[i] = 4*s[0]\n",
    "\n",
    "for i, b in enumerate(b_log):\n",
    "    f = lambda x: integrand(x,b)\n",
    "    s = integrate.quad(f, 0, np.pi/2)\n",
    "    error[i]=1- Ramanujan(b)/(4*s[0])\n",
    "\n",
    "fig, (ax1, ax2) = plt.subplots(1,2, figsize=(10,4))\n",
    "\n",
    "ax1.plot(b_lin, perim, 'blue')\n",
    "ax1.set_xlim([0, 1])\n",
    "ax1.set_ylim([4, 6.5])\n",
    "ax1.set(xlabel = 'b')\n",
    "ax1.set(title ='Perimeter of ellipse')\n",
    "ax1.grid('on')\n",
    "\n",
    "ax2.loglog(b_log, error, 'red')\n",
    "ax2.set_xlim([1e-3, 1])\n",
    "ax2.set_ylim([1e-8, 1e-2])\n",
    "ax2.set(xlabel = 'b')\n",
    "ax2.set(title = \"Error of Ramanujan's approximation\")\n",
    "ax2.grid('on')\n",
    "\n",
    "plt.show()"
   ]
  }
 ],
 "metadata": {
  "kernelspec": {
   "display_name": "Python 3 (ipykernel)",
   "language": "python",
   "name": "python3"
  },
  "language_info": {
   "codemirror_mode": {
    "name": "ipython",
    "version": 3
   },
   "file_extension": ".py",
   "mimetype": "text/x-python",
   "name": "python",
   "nbconvert_exporter": "python",
   "pygments_lexer": "ipython3",
   "version": "3.9.12"
  }
 },
 "nbformat": 4,
 "nbformat_minor": 4
}
