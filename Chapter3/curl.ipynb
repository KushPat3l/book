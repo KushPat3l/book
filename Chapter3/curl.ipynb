{
 "cells": [
  {
   "cell_type": "code",
   "execution_count": null,
   "metadata": {},
   "outputs": [],
   "source": [
    "import numpy as np\n",
    "import matplotlib.pyplot as plt\n",
    "from matplotlib.widgets import Slider\n",
    "%matplotlib\n",
    "\n",
    "r, theta = np.meshgrid(np.linspace(0, 1),\n",
    "                np.linspace(0, 2*np.pi))\n",
    "a = 0.5\n",
    "\n",
    "def circ(r, theta, a): \n",
    "    if (a==0): \n",
    "        return 0*r\n",
    "    else: \n",
    "        return  a*r**2*np.cos(2*theta)/\\\n",
    "             np.sqrt(1 + r**2*(a**2-1))\n",
    "\n",
    "def plotcirc(a):\n",
    "    C = circ(r,theta,a)\n",
    "    ax.clear()\n",
    "    ax.set_title('Circulation heatmap')\n",
    "    ax.set_yticklabels([])\n",
    "    heat = ax.pcolormesh(theta, r, C, \n",
    "                    shading = 'auto')\n",
    "    ctf = ax.contourf(theta, r, C, levels=20,\n",
    "          vmin = -1, vmax = 1)\n",
    "    return heat,ctf\n",
    "\n",
    "ax = plt.subplot(projection='polar')\n",
    "plt.subplots_adjust(bottom=0.15)\n",
    "\n",
    "heat, ctf = plotcirc(a)\n",
    "plt.colorbar(ctf)\n",
    "\n",
    "axa = plt.axes([0.16, 0.05, 0.65, 0.02])\n",
    "a_slide = Slider(axa, 'a', 0, 2, \n",
    "          valstep = 0.01, valinit = a)\n",
    "\n",
    "def update(val):\n",
    "    a = a_slide.val\n",
    "    plotcirc(a)\n",
    "\n",
    "a_slide.on_changed(update)\n",
    "plt.show()"
   ]
  }
 ],
 "metadata": {
  "kernelspec": {
   "display_name": "Python 3 (ipykernel)",
   "language": "python",
   "name": "python3"
  },
  "language_info": {
   "codemirror_mode": {
    "name": "ipython",
    "version": 3
   },
   "file_extension": ".py",
   "mimetype": "text/x-python",
   "name": "python",
   "nbconvert_exporter": "python",
   "pygments_lexer": "ipython3",
   "version": "3.9.12"
  }
 },
 "nbformat": 4,
 "nbformat_minor": 4
}
