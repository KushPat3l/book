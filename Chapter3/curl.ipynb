{
 "cells": [
  {
   "cell_type": "code",
   "execution_count": 33,
   "metadata": {},
   "outputs": [
    {
     "name": "stdout",
     "output_type": "stream",
     "text": [
      "Using matplotlib backend: MacOSX\n"
     ]
    }
   ],
   "source": [
    "import numpy as np\n",
    "import matplotlib.pyplot as plt\n",
    "%matplotlib \n",
    "\n",
    "fig = plt.figure()\n",
    "ax = fig.add_subplot(111, projection='3d')\n",
    "\n",
    "x, y, z = np.meshgrid(np.linspace(-0.9, 0.9,7),\n",
    "                      np.linspace(-0.9, 0.9,7),\n",
    "                      np.linspace(0, 1,10))\n",
    "u = x*z\n",
    "v = y*z\n",
    "w = x*y\n",
    "\n",
    "ax.quiver(x, y, z, u, v, w , length=0.3)\n",
    "\n",
    "Theta = np.linspace(0,2*np.pi)\n",
    "R = np.linspace(0, 1)\n",
    "rc, tc = np.meshgrid(R, Theta)\n",
    "X = rc*np.cos(tc)\n",
    "Y = rc*np.sin(tc)\n",
    "Z = np.sqrt(1-rc**2)  \n",
    "ax.plot_surface(X,Y,Z, cmap ='bone', alpha=0.5)\n",
    "ax.set_xticks([-1,0,1])\n",
    "ax.set_yticks([-1,0,1])\n",
    "ax.set_xlabel('x')\n",
    "ax.set_ylabel('y')\n",
    "ax.set_zlabel('z')\n",
    "ax.set_zticks([0,1])\n",
    "ax.set_box_aspect((1,1,0.5))\n",
    "plt.tight_layout()\n",
    "plt.show()"
   ]
  },
  {
   "cell_type": "code",
   "execution_count": 5,
   "metadata": {},
   "outputs": [
    {
     "name": "stdout",
     "output_type": "stream",
     "text": [
      "Using matplotlib backend: MacOSX\n"
     ]
    },
    {
     "name": "stderr",
     "output_type": "stream",
     "text": [
      "/var/folders/g5/tt2bm4xs78sbr54l0d13m17h0000gp/T/ipykernel_70671/3576395187.py:43: MatplotlibDeprecationWarning: Auto-removal of grids by pcolor() and pcolormesh() is deprecated since 3.5 and will be removed two minor releases later; please call grid(False) first.\n",
      "  heat = ax2.pcolormesh(theta, r, C,\n"
     ]
    }
   ],
   "source": [
    "import numpy as np\n",
    "import matplotlib.pyplot as plt\n",
    "from matplotlib.widgets import Slider\n",
    "%matplotlib\n",
    "\n",
    "r, theta = np.meshgrid(np.linspace(0, 1),\n",
    "                np.linspace(0, 2*np.pi))\n",
    "\n",
    "def circulation(a): \n",
    "    if (a==0): return 0*r\n",
    "    else: return  a*r**2*np.cos(2*theta)/\\\n",
    "                  np.sqrt(1+r**2*(a**2-1))\n",
    "    \n",
    "fig = plt.figure(figsize=(6,4))\n",
    "ax1 = fig.add_subplot(121, projection='3d')\n",
    "ax2 = fig.add_subplot(122, projection='polar')\n",
    "\n",
    "def data(a):\n",
    "    Theta = np.linspace(0,2*np.pi)\n",
    "    R = np.linspace(0, 1)\n",
    "    rc, tc = np.meshgrid(R, Theta)\n",
    "    X = rc*np.cos(tc)\n",
    "    Y = rc*np.sin(tc)\n",
    "    Z = a*np.sqrt(1-rc**2)  \n",
    "    return X, Y, Z\n",
    "\n",
    "def plotsurf(a):\n",
    "    ax1.clear()\n",
    "    ax1.set_title('Surface')\n",
    "    ax1.set_xlim(-1,1)\n",
    "    ax1.set_ylim(-1,1)\n",
    "    ax1.set_zlim(0,2)\n",
    "    X, Y, Z = data(a)\n",
    "    P1 = ax1.plot_surface(X,Y,Z, cmap ='bone')\n",
    "    return P1\n",
    "\n",
    "def plotcirc(a):\n",
    "    ax2.clear()\n",
    "    ax2.set_title('Circulation (projected)')\n",
    "    ax2.set_xticklabels([])\n",
    "    ax2.set_yticklabels([])\n",
    "    C = circulation(a)\n",
    "    heat = ax2.pcolormesh(theta, r, C, \n",
    "           shading = 'gouraud')\n",
    "    ctf = ax2.contourf(theta, r, C, \n",
    "          levels= 50, cmap ='coolwarm',\n",
    "          vmin = -1, vmax = 1)\n",
    "    return heat, ctf\n",
    "\n",
    "plt.subplots_adjust(bottom=0.15)\n",
    "axa = plt.axes([0.16, 0.15, 0.7, 0.02])\n",
    "a_slide = Slider(axa, 'a', 0, 2, \n",
    "          valstep = 0.01, valinit = 0)\n",
    "\n",
    "plotsurf(0); plotcirc(0)\n",
    "\n",
    "def update(val):\n",
    "    a = a_slide.val\n",
    "    plotsurf(a); plotcirc(a)\n",
    "\n",
    "a_slide.on_changed(update)\n",
    "plt.show()"
   ]
  },
  {
   "cell_type": "code",
   "execution_count": null,
   "metadata": {},
   "outputs": [],
   "source": []
  },
  {
   "cell_type": "code",
   "execution_count": null,
   "metadata": {},
   "outputs": [],
   "source": []
  }
 ],
 "metadata": {
  "kernelspec": {
   "display_name": "Python 3 (ipykernel)",
   "language": "python",
   "name": "python3"
  },
  "language_info": {
   "codemirror_mode": {
    "name": "ipython",
    "version": 3
   },
   "file_extension": ".py",
   "mimetype": "text/x-python",
   "name": "python",
   "nbconvert_exporter": "python",
   "pygments_lexer": "ipython3",
   "version": "3.9.13"
  }
 },
 "nbformat": 4,
 "nbformat_minor": 4
}
