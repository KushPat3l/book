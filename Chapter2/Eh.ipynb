{
 "cells": [
  {
   "cell_type": "code",
   "execution_count": null,
   "metadata": {},
   "outputs": [],
   "source": [
    "import numpy as np\n",
    "import matplotlib.pyplot as plt\n",
    "\n",
    "h = np.logspace(-20, 0, 300)\n",
    "x = 1 \n",
    "f = lambda x: x**3   \n",
    "actual = 3*x**2\n",
    "\n",
    "fx = f(x)\n",
    "fxp = f(x+h)\n",
    "fxm = f(x-h)\n",
    "\n",
    "est1 = (fxp-fx)/h\n",
    "est2 = (fxp-fxm)/(2*h)\n",
    "\n",
    "err1 = abs(actual-est1)\n",
    "err2 = abs(actual-est2)\n",
    "\n",
    "plt.loglog(h,err2, 'k', lw=2) \n",
    "plt.loglog(h,err1, 'r', lw=1)\n",
    "plt.legend(['Symmetric difference', \n",
    "            'Forward difference'])\n",
    "plt.xlabel(r'$h$')\n",
    "plt.ylabel(r'Absolute error $E$')\n",
    "plt.xlim([1e-20, 1])\n",
    "plt.grid('on')\n",
    "plt.show()"
   ]
  }
 ],
 "metadata": {
  "kernelspec": {
   "display_name": "Python 3 (ipykernel)",
   "language": "python",
   "name": "python3"
  },
  "language_info": {
   "codemirror_mode": {
    "name": "ipython",
    "version": 3
   },
   "file_extension": ".py",
   "mimetype": "text/x-python",
   "name": "python",
   "nbconvert_exporter": "python",
   "pygments_lexer": "ipython3",
   "version": "3.9.12"
  }
 },
 "nbformat": 4,
 "nbformat_minor": 4
}
