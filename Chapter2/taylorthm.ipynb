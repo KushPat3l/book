{
 "cells": [
  {
   "cell_type": "code",
   "execution_count": null,
   "metadata": {},
   "outputs": [],
   "source": [
    "import numpy as np\n",
    "import matplotlib.pyplot as plt\n",
    "\n",
    "def Nth_term(x,N):\n",
    "    return -(-1)**N*x**N/N\n",
    "    \n",
    "x = 0.4\n",
    "N_max = 15 \n",
    "Nlist = np.arange(1,N_max+1)\n",
    "P = 0\n",
    "PNlist = []\n",
    "lowlist=[]\n",
    "hilist=[]\n",
    "\n",
    "for N in Nlist:\n",
    "    P = P + Nth_term(x,N)\n",
    "    PNlist.append(P)\n",
    "    Np= N+1\n",
    "    low = (x/(1+x))**Np/Np\n",
    "    lowlist.append(low)    \n",
    "    hi = x**Np/Np\n",
    "    hilist.append(hi)   \n",
    "    \n",
    "RN = abs(PNlist-np.log(1+x))\n",
    "        \n",
    "plt.semilogy(Nlist, RN, lw=2, \n",
    "             color = 'r')\n",
    "plt.semilogy(Nlist,lowlist,'r:',\n",
    "             Nlist,hilist, 'r:')\n",
    "plt.legend([r'$|R_N(x=0.4)|$']) \n",
    "plt.xticks(Nlist) \n",
    "plt.xlim([1,N_max])\n",
    "plt.xlabel('Polynomial order N')\n",
    "plt.ylim([1e-10,0.1])\n",
    "plt.grid('on')\n",
    "plt.show()"
   ]
  }
 ],
 "metadata": {
  "kernelspec": {
   "display_name": "Python 3 (ipykernel)",
   "language": "python",
   "name": "python3"
  },
  "language_info": {
   "codemirror_mode": {
    "name": "ipython",
    "version": 3
   },
   "file_extension": ".py",
   "mimetype": "text/x-python",
   "name": "python",
   "nbconvert_exporter": "python",
   "pygments_lexer": "ipython3",
   "version": "3.9.12"
  }
 },
 "nbformat": 4,
 "nbformat_minor": 4
}
