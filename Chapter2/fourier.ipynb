{
 "cells": [
  {
   "cell_type": "code",
   "execution_count": 44,
   "metadata": {},
   "outputs": [
    {
     "data": {
      "image/png": "[encoded data removed]",
      "text/plain": [
       "<Figure size 432x288 with 2 Axes>"
      ]
     },
     "metadata": {
      "needs_background": "light"
     },
     "output_type": "display_data"
    }
   ],
   "source": [
    "import numpy as np\n",
    "import matplotlib.pyplot as plt\n",
    "from matplotlib.widgets import Slider\n",
    "#%matplotlib\n",
    "%matplotlib inline\n",
    "\n",
    "nmax = 5 \n",
    "pi = np.pi\n",
    "x = np.linspace(-2*pi,2*pi,1000)\n",
    "\n",
    "def f(xarray):\n",
    "    y = np.zeros_like(xarray)\n",
    "    for ind, x in enumerate(xarray):\n",
    "        xmod = x%(2*pi)\n",
    "        if (xmod<pi and xmod>=0):\n",
    "            y[ind] = 1\n",
    "    return y\n",
    "\n",
    "def Fourier(x,nmax):\n",
    "    S = 0\n",
    "    for n in np.arange(1,nmax+1,2):\n",
    "        S += np.sin(n*x)/n\n",
    "    return 0.5+ 2*S/pi \n",
    "\n",
    "fig,ax = plt.subplots()\n",
    "plt.subplots_adjust(bottom=0.15)\n",
    "\n",
    "plt.plot(x, f(x),'r',lw=1)\n",
    "Ffunc,= plt.plot(x, Fourier(x,nmax),'b',\n",
    "        lw=0.5)\n",
    "plt.xlim([-2*pi, 2*pi])\n",
    "plt.ylim([-0.2, 1.2])\n",
    "plt.grid('on')\n",
    "plt.title('Fourier series up to\\\n",
    "          n terms')\n",
    "\n",
    "axn = plt.axes([0.15, 0.05, 0.7, 0.03])\n",
    "n_slide = Slider(axn, 'n', 1, 101, \n",
    "          valstep = 2, valinit = nmax)\n",
    "\n",
    "def update(val):\n",
    "    nmax = n_slide.val\n",
    "    Ffunc.set_ydata(Fourier(x,nmax))\n",
    "    fig.canvas.draw_idle()\n",
    "\n",
    "n_slide.on_changed(update)\n",
    "\n",
    "plt.show() "
   ]
  },
  {
   "cell_type": "code",
   "execution_count": 51,
   "metadata": {},
   "outputs": [
    {
     "data": {
      "text/plain": [
       "0.08948987223608351"
      ]
     },
     "execution_count": 51,
     "metadata": {},
     "output_type": "execute_result"
    }
   ],
   "source": [
    "import scipy.special as special\n",
    "gibbs=special.sici(pi)[0]/pi-0.5\n",
    "gibbs"
   ]
  },
  {
   "cell_type": "code",
   "execution_count": null,
   "metadata": {},
   "outputs": [],
   "source": []
  },
  {
   "cell_type": "code",
   "execution_count": null,
   "metadata": {},
   "outputs": [],
   "source": []
  },
  {
   "cell_type": "code",
   "execution_count": null,
   "metadata": {},
   "outputs": [],
   "source": []
  }
 ],
 "metadata": {
  "kernelspec": {
   "display_name": "Python 3 (ipykernel)",
   "language": "python",
   "name": "python3"
  },
  "language_info": {
   "codemirror_mode": {
    "name": "ipython",
    "version": 3
   },
   "file_extension": ".py",
   "mimetype": "text/x-python",
   "name": "python",
   "nbconvert_exporter": "python",
   "pygments_lexer": "ipython3",
   "version": "3.9.17"
  }
 },
 "nbformat": 4,
 "nbformat_minor": 4
}
