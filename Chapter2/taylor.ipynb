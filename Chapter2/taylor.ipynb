{
 "cells": [
  {
   "cell_type": "code",
   "execution_count": null,
   "metadata": {},
   "outputs": [],
   "source": [
    "import numpy as np\n",
    "import matplotlib.pyplot as plt\n",
    "\n",
    "def nth_term(x,n):\n",
    "        return -(-1)**n*x**n/n\n",
    "    \n",
    "n_max = 40\n",
    "x = np.linspace(-0.99, 2, 100)\n",
    "S = np.zeros_like(x)\n",
    "\n",
    "for n in np.arange(1,n_max+1):\n",
    "    S = S + nth_term(x,n)\n",
    "    b=n/n_max\n",
    "    if (n>=5):\n",
    "        plt.plot(x,S,label='_nolegend_',\n",
    "        color = (0,0,b), lw=1)\n",
    "    \n",
    "plt.plot(x, np.log(1+x),lw=2,color='k')\n",
    "plt.legend([r'$y=ln(1+x)$'], loc='upper left')\n",
    "plt.xlim([-0.99, 2])\n",
    "plt.ylim([-2,2])\n",
    "plt.grid('on')\n",
    "plt.show()"
   ]
  }
 ],
 "metadata": {
  "kernelspec": {
   "display_name": "Python 3 (ipykernel)",
   "language": "python",
   "name": "python3"
  },
  "language_info": {
   "codemirror_mode": {
    "name": "ipython",
    "version": 3
   },
   "file_extension": ".py",
   "mimetype": "text/x-python",
   "name": "python",
   "nbconvert_exporter": "python",
   "pygments_lexer": "ipython3",
   "version": "3.9.17"
  }
 },
 "nbformat": 4,
 "nbformat_minor": 4
}
