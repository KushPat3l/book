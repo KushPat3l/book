{
 "cells": [
  {
   "cell_type": "code",
   "execution_count": null,
   "metadata": {},
   "outputs": [],
   "source": [
    "import numpy as np\n",
    "import matplotlib.pyplot as plt\n",
    "\n",
    "a, b = 1, 2\n",
    "N = np.round(np.logspace(2,5))\n",
    "\n",
    "actual= 2*np.log(2)-1\n",
    "hlist = (b-a)/N\n",
    "error = []\n",
    "\n",
    "def trapz(y,h):\n",
    "    return h*(sum(y)-(y[0]+y[-1])/2)\n",
    "\n",
    "for n in N:\n",
    "    x = np.linspace(a,b,int(n+1))\n",
    "    y = np.log(x)\n",
    "    h = (b-a)/n\n",
    "    estim = trapz(y,h)\n",
    "    error.append(actual-estim)\n",
    "    \n",
    "plt.loglog(hlist, np.abs(error))\n",
    "plt.xlim([1e-5, 1e-2])\n",
    "plt.xlabel('h')\n",
    "plt.ylabel('E(h)')\n",
    "plt.grid('on')\n",
    "plt.show()\n",
    "\n",
    "k=(np.log(error[0])-np.log(error[-1]))/\\\n",
    "  (np.log(hlist[0])-np.log(hlist[-1]))\n",
    "print(f'Gradient of line = {k:.5f}.')"
   ]
  }
 ],
 "metadata": {
  "kernelspec": {
   "display_name": "Python 3 (ipykernel)",
   "language": "python",
   "name": "python3"
  },
  "language_info": {
   "codemirror_mode": {
    "name": "ipython",
    "version": 3
   },
   "file_extension": ".py",
   "mimetype": "text/x-python",
   "name": "python",
   "nbconvert_exporter": "python",
   "pygments_lexer": "ipython3",
   "version": "3.9.12"
  }
 },
 "nbformat": 4,
 "nbformat_minor": 4
}
