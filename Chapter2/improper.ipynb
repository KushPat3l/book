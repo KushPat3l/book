{
 "cells": [
  {
   "cell_type": "code",
   "execution_count": null,
   "metadata": {},
   "outputs": [],
   "source": [
    "import numpy as np\n",
    "import matplotlib.pyplot as plt\n",
    "from scipy.integrate import simps\n",
    "\n",
    "alpha = np.linspace(0.05,5,200)\n",
    "error = []\n",
    "f = lambda x: np.exp(-x**2)\n",
    "g = lambda x: np.exp(-1/x**2)/x**2\n",
    "\n",
    "exact = 0.5*np.sqrt(np.pi)\n",
    "h=1e-3\n",
    "\n",
    "for a in alpha:\n",
    "    N1 = int(a/h)\n",
    "    N2 = int(1/(a*h))\n",
    "    x1 = np.linspace(0,a,N1)\n",
    "    x2 = np.linspace(1e-8,1/a,N2)\n",
    "    \n",
    "    integ  = simps(f(x1),x1) + simps(g(x2),x2)\n",
    "    err = abs(exact-integ)\n",
    "    error.append(err)\n",
    "\n",
    "plt.semilogy(alpha,error,'g')\n",
    "plt.xlim([0,5])\n",
    "plt.xlabel(r'$\\alpha$')\n",
    "plt.ylabel('Absolute error')\n",
    "plt.grid('on')\n",
    "plt.show()"
   ]
  }
 ],
 "metadata": {
  "kernelspec": {
   "display_name": "Python 3 (ipykernel)",
   "language": "python",
   "name": "python3"
  },
  "language_info": {
   "codemirror_mode": {
    "name": "ipython",
    "version": 3
   },
   "file_extension": ".py",
   "mimetype": "text/x-python",
   "name": "python",
   "nbconvert_exporter": "python",
   "pygments_lexer": "ipython3",
   "version": "3.9.12"
  }
 },
 "nbformat": 4,
 "nbformat_minor": 4
}
