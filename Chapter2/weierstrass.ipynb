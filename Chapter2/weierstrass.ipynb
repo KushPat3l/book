{
 "cells": [
  {
   "cell_type": "code",
   "execution_count": null,
   "metadata": {},
   "outputs": [],
   "source": [
    "import numpy as np\n",
    "import matplotlib.pyplot as plt\n",
    "from matplotlib.widgets import Slider\n",
    "%matplotlib\n",
    "\n",
    "a, b = 0.5, 13\n",
    "m_max = 25\n",
    "x = np.linspace(-2,2,2500)\n",
    "\n",
    "def fn(x,n,a,b):\n",
    "    return a**n*np.cos(np.pi*x*b**n)\n",
    "\n",
    "def g(x,a,b):\n",
    "    S = np.zeros_like(x)\n",
    "    for i in np.arange(0,m_max+1):\n",
    "        S = S + fn(x,i,a,b)\n",
    "    return S\n",
    "\n",
    "fig,ax = plt.subplots()\n",
    "plt.subplots_adjust(bottom=0.2)\n",
    "\n",
    "Wfunc, = plt.plot(x, g(x,a,b),'k',lw=0.5)\n",
    "plt.xlim([-2,2])\n",
    "plt.ylim([-2,2])\n",
    "plt.grid('on')\n",
    "plt.title('The Weierstrass Function')\n",
    "\n",
    "axa = plt.axes([0.15, 0.05, 0.7, 0.02])\n",
    "a_slide = Slider(axa, 'a', 0, 1, \n",
    "                 valstep=0.01, valinit=a)\n",
    "\n",
    "axb = plt.axes([0.15, 0.1, 0.7, 0.02])\n",
    "b_slide = Slider(axb, 'b', 1, 25, \n",
    "                 valstep=0.01, valinit=b)\n",
    "\n",
    "def update(val):\n",
    "    a = a_slide.val\n",
    "    b = b_slide.val\n",
    "    Wfunc.set_ydata(g(x,a,b))\n",
    "    fig.canvas.draw_idle()\n",
    "\n",
    "a_slide.on_changed(update)\n",
    "b_slide.on_changed(update)\n",
    "\n",
    "plt.show() "
   ]
  }
 ],
 "metadata": {
  "kernelspec": {
   "display_name": "Python 3 (ipykernel)",
   "language": "python",
   "name": "python3"
  },
  "language_info": {
   "codemirror_mode": {
    "name": "ipython",
    "version": 3
   },
   "file_extension": ".py",
   "mimetype": "text/x-python",
   "name": "python",
   "nbconvert_exporter": "python",
   "pygments_lexer": "ipython3",
   "version": "3.9.17"
  }
 },
 "nbformat": 4,
 "nbformat_minor": 4
}
