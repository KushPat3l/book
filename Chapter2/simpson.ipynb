{
 "cells": [
  {
   "cell_type": "code",
   "execution_count": null,
   "metadata": {},
   "outputs": [],
   "source": [
    "import numpy as np\n",
    "import matplotlib.pyplot as plt\n",
    "\n",
    "a, b = 1, 2\n",
    "N = np.round(np.logspace(2,5,300))\n",
    "actual= 2*np.log(2)-1\n",
    "Hlist = (b-a)/N\n",
    "error = []\n",
    "\n",
    "def simp(y,h):\n",
    "    return (h/3)*(y[0]+y[-1]+\\\n",
    "    4*sum(y[1:-1:2])+2*sum(y[2:-1:2]))\n",
    "\n",
    "for n in N:\n",
    "    n2 = 2*n\n",
    "    x = np.linspace(a,b,int(n2+1))\n",
    "    y = np.log(x)\n",
    "    h = (b-a)/n2\n",
    "    estim = simp(y,h)\n",
    "    error.append(actual-estim)\n",
    "    \n",
    "plt.loglog(Hlist , np.abs(error))\n",
    "plt.xlim([1e-5,1e-2])\n",
    "plt.xlabel('H')\n",
    "plt.ylabel('E(H)')\n",
    "plt.grid('on')\n",
    "plt.show()\n",
    "\n",
    "k=(np.log(error[0])-np.log(error[50]))/\\\n",
    "  (np.log(Hlist[0])-np.log(Hlist[50]))\n",
    "print(f'Gradient of line = {k:.5f}.')"
   ]
  }
 ],
 "metadata": {
  "kernelspec": {
   "display_name": "Python 3 (ipykernel)",
   "language": "python",
   "name": "python3"
  },
  "language_info": {
   "codemirror_mode": {
    "name": "ipython",
    "version": 3
   },
   "file_extension": ".py",
   "mimetype": "text/x-python",
   "name": "python",
   "nbconvert_exporter": "python",
   "pygments_lexer": "ipython3",
   "version": "3.9.12"
  }
 },
 "nbformat": 4,
 "nbformat_minor": 4
}
