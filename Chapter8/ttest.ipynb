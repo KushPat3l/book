{
 "cells": [
  {
   "cell_type": "code",
   "execution_count": null,
   "id": "0d4b6b6c-6dd6-4e92-8186-798e53de9e8d",
   "metadata": {},
   "outputs": [],
   "source": [
    "import numpy as np\n",
    "import matplotlib.pyplot as plt\n",
    "from scipy import stats\n",
    "from IPython.display import Math, Latex\n",
    "%matplotlib\n",
    "\n",
    "samples =[0.6517,-0.5602,0.8649,1.8570,1.9028] \n",
    "N = len(samples)\n",
    "Smean = np.mean(samples)\n",
    "Svar = np.var(samples, ddof=1)\n",
    "scale = np.sqrt(Svar/N)\n",
    "\n",
    "display(Math(r'\\mu_\\bar{X} = ' f\"{Smean:.4}, \"\n",
    "         r'\\sigma_{\\bar{X}} = 'f\"{scale:.4}\"))\n",
    "\n",
    "fig, ax = plt.subplots(1,1, figsize=(6,3))\n",
    "rv = stats.t(N-1, loc = Smean, scale = scale)\n",
    "xmin, xmax = -2, 4\n",
    "x2 = np.linspace(xmin, xmax, 150)\n",
    "y2 = rv.pdf(x2) \n",
    "ax.plot(x2, y2, 'r')\n",
    "ax.set_xlim((xmin,xmax))\n",
    "ax.set_ylim((0,0.9))\n",
    "ax.set_ylabel('Pdf')\n",
    "ax.set_title('Estimate of the population' \n",
    "             ' mean (95% C.I. shaded)')\n",
    "\n",
    "mu0 = 1.5\n",
    "display(Math(r'\\mu_0 = ' f\"{mu0}\"))\n",
    "ax.axvline(mu0, c='k', ls='--', lw=1)\n",
    "ax.text(mu0, -0.05 , r'$\\mu_0$')\n",
    "\n",
    "res = stats.ttest_1samp(samples, mu0)\n",
    "\n",
    "t = (Smean-mu0)/scale\n",
    "print(f't statistic= {t:.4f}')\n",
    "print(f'SciPy:t statistic={res.statistic:.4f}')\n",
    "\n",
    "p = 2*(1-rv.cdf(mu0))\n",
    "print(f'p value = {p:.4f}')\n",
    "print(f'SciPy:p value = {res.pvalue:.4f}')\n",
    "print('')\n",
    "ax.text(1.1*mu0,0.7, f'p = {p:.4}')\n",
    "\n",
    "display(Latex('95% C.I. for $\\mu$'))\n",
    "CL = res.confidence_interval(0.95)\n",
    "print(f'({CL.low:.4f},{CL.high:.4f})')\n",
    "\n",
    "Xcl = np.linspace(CL.low, CL.high)\n",
    "ax.fill_between(Xcl, 0, rv.pdf(Xcl), \n",
    "                color='plum', alpha=0.7)\n",
    "plt.grid('on')\n",
    "plt.show()"
   ]
  }
 ],
 "metadata": {
  "kernelspec": {
   "display_name": "Python 3 (ipykernel)",
   "language": "python",
   "name": "python3"
  },
  "language_info": {
   "codemirror_mode": {
    "name": "ipython",
    "version": 3
   },
   "file_extension": ".py",
   "mimetype": "text/x-python",
   "name": "python",
   "nbconvert_exporter": "python",
   "pygments_lexer": "ipython3",
   "version": "3.9.17"
  }
 },
 "nbformat": 4,
 "nbformat_minor": 5
}
