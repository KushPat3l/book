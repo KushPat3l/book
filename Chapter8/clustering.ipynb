{
 "cells": [
  {
   "cell_type": "code",
   "execution_count": null,
   "id": "e198e2f2-ebab-46af-b100-6d69651f2a51",
   "metadata": {},
   "outputs": [],
   "source": [
    "import pandas as pd\n",
    "import matplotlib.pyplot as plt\n",
    "from sklearn.cluster import KMeans\n",
    "%matplotlib \n",
    "\n",
    "data0 = pd.read_csv('datasetA.csv', \n",
    "                    sep=',', header=None)\n",
    "data1 = pd.read_csv('datasetB.csv', \n",
    "                    sep=',', header=None)\n",
    "X = pd.concat([data0, data1])\n",
    "\n",
    "kmeans = KMeans(n_clusters=2, random_state=4, \n",
    "                n_init='auto').fit(X)\n",
    "centr  = kmeans.cluster_centers_\n",
    "\n",
    "fig, ax = plt.subplots(1,1)\n",
    "\n",
    "ax.scatter(X.values[:,0], X.values[:,1], \n",
    "           c=kmeans.labels_, cmap='bwr_r', \n",
    "           s=10, alpha=0.5)\n",
    "ax.scatter(centr[:,0], centr[:,1], c='k', \n",
    "           s=80, marker = 'x')\n",
    "ax.set_title('k-means clustered data')\n",
    "ax.set_xlabel('x')\n",
    "ax.set_ylabel('y')\n",
    "plt.grid()\n",
    "plt.show()\n",
    "\n",
    "print(f'After {kmeans.n_iter_} iterations, ' \n",
    "      'the centroids are at')\n",
    "print(f'{centr[0,:]} and \\n{centr[1,:]}')"
   ]
  }
 ],
 "metadata": {
  "kernelspec": {
   "display_name": "Python 3 (ipykernel)",
   "language": "python",
   "name": "python3"
  },
  "language_info": {
   "codemirror_mode": {
    "name": "ipython",
    "version": 3
   },
   "file_extension": ".py",
   "mimetype": "text/x-python",
   "name": "python",
   "nbconvert_exporter": "python",
   "pygments_lexer": "ipython3",
   "version": "3.9.12"
  }
 },
 "nbformat": 4,
 "nbformat_minor": 5
}
