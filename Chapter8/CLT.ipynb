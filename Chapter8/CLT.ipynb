{
 "cells": [
  {
   "cell_type": "code",
   "execution_count": null,
   "id": "ed77ca1b-e431-487a-935c-582566fb5d3e",
   "metadata": {},
   "outputs": [],
   "source": [
    "import numpy as np\n",
    "import matplotlib.pyplot as plt\n",
    "from scipy.stats import uniform, norm\n",
    "import seaborn as sns\n",
    "%matplotlib\n",
    "\n",
    "Means = []\n",
    "Musize = int(1e4)\n",
    "\n",
    "size = 100\n",
    "\n",
    "for i in range(Musize):\n",
    "    samples = uniform.rvs(size=size)\n",
    "    mu = np.mean(samples)\n",
    "    Means.append(mu)\n",
    "\n",
    "fig,(ax1, ax2)=plt.subplots(1,2,figsize=(7,3))\n",
    "x1 = np.linspace(0,1)\n",
    "pdf = uniform.pdf(x1)\n",
    "ax1.plot(x1, pdf)\n",
    "ax1.set_title(f'Uniform on [0,1]') \n",
    "ax1.grid()\n",
    "\n",
    "sns.histplot(Means, bins=25, \n",
    "             stat = 'density', ax=ax2)\n",
    "ax2.set_title(f'Distribution of sample mean') \n",
    "x2 = np.linspace(min(Means), max(Means))\n",
    "ax2.set_ylabel('')\n",
    "MU = np.mean(Means)\n",
    "SIG = np.sqrt(np.var(Means, ddof=1))\n",
    "y2 = norm.pdf(x2, MU, SIG) \n",
    "ax2.plot(x2,y2, 'r')\n",
    "ax2.grid()\n",
    "\n",
    "plt.show()\n",
    "\n",
    "Mcount = sum(i > 0.55 for i in Means)\n",
    "Ans = Mcount/Musize\n",
    "print(f'{Mcount} samples were >0.55. '\n",
    "      f'P(X>0.55)={Ans}')"
   ]
  }
 ],
 "metadata": {
  "kernelspec": {
   "display_name": "Python 3 (ipykernel)",
   "language": "python",
   "name": "python3"
  },
  "language_info": {
   "codemirror_mode": {
    "name": "ipython",
    "version": 3
   },
   "file_extension": ".py",
   "mimetype": "text/x-python",
   "name": "python",
   "nbconvert_exporter": "python",
   "pygments_lexer": "ipython3",
   "version": "3.9.12"
  }
 },
 "nbformat": 4,
 "nbformat_minor": 5
}
