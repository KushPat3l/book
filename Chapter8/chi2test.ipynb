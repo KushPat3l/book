{
 "cells": [
  {
   "cell_type": "code",
   "execution_count": null,
   "id": "cc4b4503-1f22-464a-a7f8-e15337bee65d",
   "metadata": {},
   "outputs": [],
   "source": [
    "import numpy as np\n",
    "import matplotlib.pyplot as plt\n",
    "from scipy import stats\n",
    "%matplotlib\n",
    "\n",
    "f_obs = np.array([12, 33, 36, 16, 3])\n",
    "\n",
    "C = len(f_obs)\n",
    "Nsmpl = sum(f_obs)\n",
    "\n",
    "X = np.arange(C)\n",
    "f_exp = Nsmpl*stats.binom.pmf(X, C-1, 0.5)\n",
    "\n",
    "chisq = sum((f_obs - f_exp)**2/f_exp)\n",
    "\n",
    "res = stats.chisquare(f_obs, f_exp)\n",
    "\n",
    "print(f'chi2 stat. = {chisq:.4f}')\n",
    "print(f'SciPy: chi2 stat.={res.statistic:.4f}')\n",
    "print('')\n",
    "\n",
    "rv = stats.chi2(df = C-1)\n",
    "p = 1-rv.cdf(chisq)\n",
    "\n",
    "print(f'p value = {p:.4f}')\n",
    "print(f'SciPy:p value = {res.pvalue:.4f}')\n",
    "\n",
    "fig, ax = plt.subplots(1,1, figsize=(6,4))\n",
    "\n",
    "width = 0.3\n",
    "ax.bar(X-width/2, f_obs/Nsmpl, \n",
    "       width = width, color = 'skyblue')\n",
    "ax.bar(X+width/2, f_exp/Nsmpl, \n",
    "       width = width, color = 'coral')\n",
    "ax.set_title('Observed vs expected '\n",
    "             f'frequencies, p = {p:.4f}') \n",
    "ax.set_xlabel('No. of heads')\n",
    "ax.set_ylabel('Normalised frequency')\n",
    "\n",
    "plt.legend(['Observed', 'Expected'])\n",
    "plt.grid()\n",
    "plt.show()"
   ]
  }
 ],
 "metadata": {
  "kernelspec": {
   "display_name": "Python 3 (ipykernel)",
   "language": "python",
   "name": "python3"
  },
  "language_info": {
   "codemirror_mode": {
    "name": "ipython",
    "version": 3
   },
   "file_extension": ".py",
   "mimetype": "text/x-python",
   "name": "python",
   "nbconvert_exporter": "python",
   "pygments_lexer": "ipython3",
   "version": "3.9.12"
  }
 },
 "nbformat": 4,
 "nbformat_minor": 5
}
