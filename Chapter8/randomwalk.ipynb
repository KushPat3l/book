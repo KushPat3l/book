{
 "cells": [
  {
   "cell_type": "code",
   "execution_count": null,
   "id": "490999c0-6ea4-4400-a41d-ab341a23d48c",
   "metadata": {},
   "outputs": [],
   "source": [
    "import numpy as np\n",
    "import matplotlib.pyplot as plt\n",
    "import random\n",
    "%matplotlib \n",
    "\n",
    "Nsims = int(1e3)\n",
    "Nsteps = 500\n",
    "\n",
    "Sims = np.arange(Nsims)\n",
    "Steps= np.arange(Nsteps+1)\n",
    "SumDist = np.zeros_like(Steps)\n",
    "\n",
    "fig,(ax1, ax2)=plt.subplots(1,2,figsize=(10,5))\n",
    "ax1.set_xlim(0, Nsteps)\n",
    "ax1.set_ylim(-3.5*np.sqrt(Nsteps), \n",
    "             3.5*np.sqrt(Nsteps))\n",
    "ax1.set_xlabel('Number of steps $N$')\n",
    "ax1.set_ylabel('Displacement from the origin')\n",
    "ax1.grid()\n",
    "color=plt.cm.prism_r(np.linspace(0, 1, Nsims))\n",
    "\n",
    "for i in Sims:\n",
    "    R = [random.randint(0,1) for \n",
    "         i in range(1,Nsteps+1)]\n",
    "    moves = 2*np.array(R)-1\n",
    "    traj = np.cumsum(moves)\n",
    "    traj = np.insert(traj, 0, 0)\n",
    "    ax1.plot(Steps, traj, '-', \n",
    "             lw = 0.5, c = color[i])\n",
    "    SumDist += np.abs(traj)\n",
    "\n",
    "\n",
    "bound = 3*np.sqrt(Steps)\n",
    "\n",
    "ax1.plot(Steps, bound, 'k--',\n",
    "         Steps, -bound, 'k--')\n",
    "\n",
    "AveDist = SumDist/Nsims    \n",
    "\n",
    "ax2.plot(Steps, AveDist, 'bo-', ms=1) \n",
    "ax2.plot(Steps,np.sqrt(2*Steps/np.pi),'r',lw=1)\n",
    "ax2.set_xlim(0, Nsteps)\n",
    "ax2.set_ylim(0, np.ceil(np.max(AveDist)))\n",
    "ax2.set_xlabel(r'Number of steps $N$')\n",
    "ax2.set_ylabel('Mean distance from the origin')\n",
    "ax2.legend(['Simulation', r'$\\sqrt{2N/\\pi}$'])\n",
    "ax2.grid()\n",
    "\n",
    "plt.show()"
   ]
  }
 ],
 "metadata": {
  "kernelspec": {
   "display_name": "Python 3 (ipykernel)",
   "language": "python",
   "name": "python3"
  },
  "language_info": {
   "codemirror_mode": {
    "name": "ipython",
    "version": 3
   },
   "file_extension": ".py",
   "mimetype": "text/x-python",
   "name": "python",
   "nbconvert_exporter": "python",
   "pygments_lexer": "ipython3",
   "version": "3.9.12"
  }
 },
 "nbformat": 4,
 "nbformat_minor": 5
}
