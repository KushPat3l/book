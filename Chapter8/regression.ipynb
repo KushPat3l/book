{
 "cells": [
  {
   "cell_type": "code",
   "execution_count": null,
   "id": "57f47e4f-5495-41db-8ad3-a905a753413c",
   "metadata": {},
   "outputs": [],
   "source": [
    "import numpy as np\n",
    "import matplotlib.pyplot as plt\n",
    "from numpy.polynomial import Polynomial as P\n",
    "import pandas as pd\n",
    "%matplotlib\n",
    "\n",
    "fig,(ax1,ax2) = plt.subplots(1,2,figsize=(8,4))\n",
    "\n",
    "df1 = pd.read_csv('datasetA.csv', sep=',', \n",
    "                  header=None)\n",
    "x1 = df1.values[:,0]\n",
    "y1 = df1.values[:,1]\n",
    "ax1.plot(x1,y1,'.r')\n",
    "\n",
    "df2 = pd.read_csv('datasetB.csv', sep=',', \n",
    "                  header=None)\n",
    "x2 = df2.values[:,0]\n",
    "y2 = df2.values[:,1]\n",
    "ax1.plot(x2,y2,'.b')\n",
    "\n",
    "ax1.legend(['datasetA','datasetB'], \n",
    "           loc='lower right')\n",
    "\n",
    "poly1 = P.fit(x1, y1, 1).convert()\n",
    "xfit1 = np.linspace(min(x1),max(x1))\n",
    "yfit1 = poly1(xfit1)\n",
    "ax1.plot(xfit1, yfit1, 'k')\n",
    "\n",
    "poly2 = P.fit(x2, y2, 1).convert()\n",
    "xfit2 = np.linspace(min(x2),max(x2))\n",
    "yfit2 = poly2(xfit2)\n",
    "ax1.plot(xfit2, yfit2, 'k')\n",
    "\n",
    "ax1.set_xlabel('x')\n",
    "ax1.set_ylabel('y')\n",
    "ax1.grid('on')\n",
    "\n",
    "X = np.concatenate((x1,x2))\n",
    "Y = np.concatenate((y1,y2))\n",
    "ax2.plot(X,Y,'.', c='gray')\n",
    "ax2.legend(['combined'], loc='lower right')\n",
    "\n",
    "Poly = P.fit(X, Y, 1).convert()\n",
    "Xfit = np.linspace(min(X),max(X))\n",
    "Yfit = Poly(Xfit)\n",
    "ax2.plot(Xfit, Yfit, 'k')\n",
    "\n",
    "ax2.set_xlabel('x')\n",
    "ax2.grid('on')\n",
    "\n",
    "plt.show()"
   ]
  }
 ],
 "metadata": {
  "kernelspec": {
   "display_name": "Python 3 (ipykernel)",
   "language": "python",
   "name": "python3"
  },
  "language_info": {
   "codemirror_mode": {
    "name": "ipython",
    "version": 3
   },
   "file_extension": ".py",
   "mimetype": "text/x-python",
   "name": "python",
   "nbconvert_exporter": "python",
   "pygments_lexer": "ipython3",
   "version": "3.9.17"
  }
 },
 "nbformat": 4,
 "nbformat_minor": 5
}
