{
 "cells": [
  {
   "cell_type": "code",
   "execution_count": null,
   "id": "6dd57cdc-0463-4585-a35f-c81d121cef44",
   "metadata": {},
   "outputs": [],
   "source": [
    "import numpy as np\n",
    "import matplotlib.pyplot as plt\n",
    "from sys import getsizeof\n",
    "\n",
    "N = np.round(np.logspace(1,6,1000))\n",
    "sizeL = []\n",
    "sizeA = []\n",
    "\n",
    "for n in N:\n",
    "    L = [x for x in range(int(n))]\n",
    "    A = np.arange(n)\n",
    "    sizeL.append(getsizeof(L))\n",
    "    sizeA.append(getsizeof(A))\n",
    "\n",
    "ratio = np.array(sizeL)/np.array(sizeA)\n",
    "\n",
    "plt.semilogx(N, ratio, 'b')\n",
    "plt.xlabel('Length')\n",
    "plt.ylabel('Ratio of sizes (List:Array)')\n",
    "plt.xlim(10, max(N))\n",
    "plt.grid('on')\n",
    "plt.show()"
   ]
  }
 ],
 "metadata": {
  "kernelspec": {
   "display_name": "Python 3 (ipykernel)",
   "language": "python",
   "name": "python3"
  },
  "language_info": {
   "codemirror_mode": {
    "name": "ipython",
    "version": 3
   },
   "file_extension": ".py",
   "mimetype": "text/x-python",
   "name": "python",
   "nbconvert_exporter": "python",
   "pygments_lexer": "ipython3",
   "version": "3.9.17"
  }
 },
 "nbformat": 4,
 "nbformat_minor": 5
}
