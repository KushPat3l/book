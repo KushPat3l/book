{
 "cells": [
  {
   "cell_type": "code",
   "execution_count": null,
   "id": "e850f092-e20f-4cfa-8043-6553b15df6c3",
   "metadata": {},
   "outputs": [],
   "source": [
    "import numpy as np\n",
    "import matplotlib.pyplot as plt\n",
    "from time import perf_counter as timer\n",
    "\n",
    "N = np.around(np.logspace(1,6,1000))\n",
    "timeL = []\n",
    "timeA = []\n",
    "\n",
    "for n in N:\n",
    "    L = [x for x in range(int(n))]\n",
    "    A = np.arange(n)\n",
    "    \n",
    "    tic = timer()\n",
    "    [l+1 for l in L]\n",
    "    toc = timer()\n",
    "    timeL.append(toc-tic)\n",
    "    \n",
    "    tic = timer()\n",
    "    A+1\n",
    "    toc = timer()\n",
    "    timeA.append(toc-tic)\n",
    "\n",
    "ratio = np.array(timeL)/np.array(timeA)\n",
    "\n",
    "plt.semilogx(N, ratio, 'r')\n",
    "plt.xlabel('Length')\n",
    "plt.ylabel('Ratio of runtimes (List:Array)')\n",
    "plt.xlim(10, max(N))\n",
    "plt.grid('on')\n",
    "plt.show()"
   ]
  }
 ],
 "metadata": {
  "kernelspec": {
   "display_name": "Python 3 (ipykernel)",
   "language": "python",
   "name": "python3"
  },
  "language_info": {
   "codemirror_mode": {
    "name": "ipython",
    "version": 3
   },
   "file_extension": ".py",
   "mimetype": "text/x-python",
   "name": "python",
   "nbconvert_exporter": "python",
   "pygments_lexer": "ipython3",
   "version": "3.9.17"
  }
 },
 "nbformat": 4,
 "nbformat_minor": 5
}
